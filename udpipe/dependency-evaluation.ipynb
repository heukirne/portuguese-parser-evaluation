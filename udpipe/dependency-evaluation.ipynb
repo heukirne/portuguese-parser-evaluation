{
 "cells": [
  {
   "cell_type": "code",
   "execution_count": 15,
   "metadata": {
    "collapsed": false
   },
   "outputs": [
    {
     "data": {
      "text/plain": [
       "'BRASÍLIA Pesquisa Datafolha publicada hoje revela um dado supreendente: recusando uma postura radical, a esmagadora maioria (77%) dos eleitores quer o PT participando do Governo Fernando Henrique Cardoso.'"
      ]
     },
     "execution_count": 15,
     "metadata": {},
     "output_type": "execute_result"
    }
   ],
   "source": [
    "import re\n",
    "registro = \"\"\n",
    "palavras = []\n",
    "with open(\"../corpus/Bosque_CF_7.4_cgd.txt\", \"r\", encoding = \"ISO-8859-1\") as file:\n",
    "    for line in file:\n",
    "        \n",
    "        if len(registro) > 0:\n",
    "            palavras.append(line)\n",
    "        \n",
    "        if line.find(\"id=\\\"2\") >= 0:\n",
    "            registro = line\n",
    "        \n",
    "        if len(registro) > 0 and line.find(\"</s>\") >= 0:\n",
    "            break\n",
    "            \n",
    "registro\n",
    "\n",
    "textRegex = re.compile(r'text=\\\"([^\\\"]+)\\\"')\n",
    "frase = textRegex.findall(registro)[0]\n",
    "frase"
   ]
  },
  {
   "cell_type": "code",
   "execution_count": 16,
   "metadata": {
    "collapsed": false
   },
   "outputs": [],
   "source": [
    "import ufal.udpipe\n",
    "# ufal.udpipe.Model etc. are SWIG-magic and cannot be detected by pylint\n",
    "# pylint: disable=no-member\n",
    "\n",
    "class Model:\n",
    "    def __init__(self, path):\n",
    "        \"\"\"Load given model.\"\"\"\n",
    "        self.model = ufal.udpipe.Model.load(path)\n",
    "        if not self.model:\n",
    "            raise Exception(\"Cannot load UDPipe model from file '%s'\" % path)\n",
    "\n",
    "    def tokenize(self, text):\n",
    "        \"\"\"Tokenize the text and return list of ufal.udpipe.Sentence-s.\"\"\"\n",
    "        tokenizer = self.model.newTokenizer(self.model.DEFAULT)\n",
    "        if not tokenizer:\n",
    "            raise Exception(\"The model does not have a tokenizer\")\n",
    "        return self._read(text, tokenizer)\n",
    "\n",
    "    def read(self, text, in_format):\n",
    "        \"\"\"Load text in the given format (conllu|horizontal|vertical) and return list of ufal.udpipe.Sentence-s.\"\"\"\n",
    "        input_format = ufal.udpipe.InputFormat.newInputFormat(in_format)\n",
    "        if not input_format:\n",
    "            raise Exception(\"Cannot create input format '%s'\" % in_format)\n",
    "        return self._read(text, input_format)\n",
    "\n",
    "    def _read(self, text, input_format):\n",
    "        input_format.setText(text)\n",
    "        error = ufal.udpipe.ProcessingError()\n",
    "        sentences = []\n",
    "\n",
    "        sentence = ufal.udpipe.Sentence()\n",
    "        while input_format.nextSentence(sentence, error):\n",
    "            sentences.append(sentence)\n",
    "            sentence = ufal.udpipe.Sentence()\n",
    "        if error.occurred():\n",
    "            raise Exception(error.message)\n",
    "\n",
    "        return sentences\n",
    "\n",
    "    def tag(self, sentence):\n",
    "        \"\"\"Tag the given ufal.udpipe.Sentence (inplace).\"\"\"\n",
    "        self.model.tag(sentence, self.model.DEFAULT)\n",
    "\n",
    "    def parse(self, sentence):\n",
    "        \"\"\"Parse the given ufal.udpipe.Sentence (inplace).\"\"\"\n",
    "        self.model.parse(sentence, self.model.DEFAULT)\n",
    "\n",
    "    def write(self, sentences, out_format):\n",
    "        \"\"\"Write given ufal.udpipe.Sentence-s in the required format (conllu|horizontal|vertical).\"\"\"\n",
    "\n",
    "        output_format = ufal.udpipe.OutputFormat.newOutputFormat(out_format)\n",
    "        output = ''\n",
    "        for sentence in sentences:\n",
    "            output += output_format.writeSentence(sentence)\n",
    "        output += output_format.finishDocument()\n",
    "\n",
    "        return output"
   ]
  },
  {
   "cell_type": "code",
   "execution_count": 48,
   "metadata": {
    "collapsed": false
   },
   "outputs": [],
   "source": [
    "model = Model('portuguese-ud-1.2-160523.udpipe')\n",
    "sentences = model.tokenize(frase)"
   ]
  },
  {
   "cell_type": "code",
   "execution_count": 50,
   "metadata": {
    "collapsed": false
   },
   "outputs": [
    {
     "data": {
      "text/plain": [
       "'# newdoc\\n# newpar\\n# sent_id = 1\\n# text = BRASÍLIA Pesquisa Datafolha publicada hoje revela um dado supreendente: recusando uma postura radical, a esmagadora maioria (77%) dos eleitores quer o PT participando do Governo Fernando Henrique Cardoso.\\n1\\tBRASÍLIA\\tBrasília\\tADJ\\tadj|F|S\\tGender=Fem|Number=Sing\\t2\\tamod\\t_\\t_\\n2\\tPesquisa\\tpesquisa\\tNOUN\\tn|F|S\\tGender=Fem|Number=Sing\\t6\\tnsubj\\t_\\t_\\n3\\tDatafolha\\tDatafolha\\tPROPN\\tprop|F|S\\tGender=Fem|Number=Sing\\t2\\tnmod\\t_\\t_\\n4\\tpublicada\\tpublicar\\tVERB\\tv-pcp|F|S\\tGender=Fem|Number=Sing|VerbForm=Part\\t2\\tacl\\t_\\t_\\n5\\thoje\\thoje\\tADV\\tadv\\t_\\t4\\tadvmod\\t_\\t_\\n6\\trevela\\trevelar\\tVERB\\tv-fin|PR|3S|IND\\tMood=Ind|Number=Sing|Person=3|Tense=Pres|VerbForm=Fin\\t0\\troot\\t_\\t_\\n7\\tum\\tum\\tDET\\tart|<arti>|M|S\\tDefinite=Ind|Gender=Masc|Number=Sing|PronType=Art\\t8\\tdet\\t_\\t_\\n8\\tdado\\tdado\\tNOUN\\tn|M|S\\tGender=Masc|Number=Sing\\t6\\tdobj\\t_\\t_\\n9\\tsupreendente\\tsurpreendente\\tADJ\\tadj|<ALT>|M|S\\tGender=Masc|Number=Sing|Typo=Yes\\t8\\tamod\\t_\\tSpaceAfter=No\\n10\\t:\\t:\\tPUNCT\\tpunc\\t_\\t6\\tpunct\\t_\\t_\\n11\\trecusando\\trecusar\\tVERB\\tv-ger\\tVerbForm=Ger\\t6\\tadvcl\\t_\\t_\\n12\\tuma\\tum\\tDET\\tart|<arti>|F|S\\tDefinite=Ind|Gender=Fem|Number=Sing|PronType=Art\\t13\\tdet\\t_\\t_\\n13\\tpostura\\tpostura\\tNOUN\\tn|F|S\\tGender=Fem|Number=Sing\\t11\\tdobj\\t_\\t_\\n14\\tradical\\tradical\\tADJ\\tadj|F|S\\tGender=Fem|Number=Sing\\t13\\tamod\\t_\\tSpaceAfter=No\\n15\\t,\\t,\\tPUNCT\\tpunc\\t_\\t11\\tpunct\\t_\\t_\\n16\\ta\\to\\tDET\\tart|<artd>|F|S\\tDefinite=Def|Gender=Fem|Number=Sing|PronType=Art\\t18\\tdet\\t_\\t_\\n17\\tesmagadora\\tesmagador\\tADJ\\tadj|F|S\\tGender=Fem|Number=Sing\\t18\\tamod\\t_\\t_\\n18\\tmaioria\\tmaioria\\tNOUN\\tn|F|S\\tGender=Fem|Number=Sing\\t25\\tnsubj\\t_\\t_\\n19\\t(\\t(\\tPUNCT\\tpunc\\t_\\t18\\tpunct\\t_\\tSpaceAfter=No\\n20\\t77\\t77\\tNUM\\tnum|<card>|M|P\\tGender=Masc|Number=Plur|NumType=Card\\t21\\tnummod\\t_\\tSpaceAfter=No\\n21\\t%\\t%\\tSYM\\tn|M|P\\tGender=Masc|Number=Plur\\t18\\tnmod\\t_\\tSpaceAfter=No\\n22\\t)\\t)\\tPUNCT\\tpunc\\t_\\t18\\tpunct\\t_\\t_\\n23\\tdos\\tr\\tVERB\\tv-pcp|M|P\\tGender=Masc|Number=Plur|VerbForm=Part\\t18\\tacl\\t_\\t_\\n24\\teleitores\\teleitor\\tNOUN\\tn|M|P\\tGender=Masc|Number=Plur\\t23\\tdobj\\t_\\t_\\n25\\tquer\\tquerer\\tVERB\\tv-fin|PR|3S|IND\\tMood=Ind|Number=Sing|Person=3|Tense=Pres|VerbForm=Fin\\t11\\tconj\\t_\\t_\\n26\\to\\to\\tDET\\tart|<artd>|M|S\\tDefinite=Def|Gender=Masc|Number=Sing|PronType=Art\\t27\\tdet\\t_\\t_\\n27\\tPT\\tPT\\tPROPN\\tprop|M|S\\tGender=Masc|Number=Sing\\t25\\tdobj\\t_\\t_\\n28\\tparticipando\\tparticipar\\tVERB\\tv-ger\\tVerbForm=Ger\\t25\\tadvcl\\t_\\t_\\n29\\tdo\\tr\\tVERB\\tv-pcp|M|S\\tGender=Masc|Number=Sing|VerbForm=Part\\t28\\tccomp\\t_\\t_\\n30\\tGoverno\\tGoverno\\tPROPN\\tprop|M|S\\tGender=Masc|Number=Sing\\t29\\tdobj\\t_\\t_\\n31\\tFernando\\tFernar\\tPROPN\\tprop|M|S\\tGender=Masc|Number=Sing\\t30\\tnmod\\t_\\t_\\n32\\tHenrique\\tHenrique\\tPROPN\\tprop|M|S\\tGender=Masc|Number=Sing\\t30\\tnmod\\t_\\t_\\n33\\tCardoso\\tCardoso\\tPROPN\\tprop|M|S\\tGender=Masc|Number=Sing\\t30\\tnmod\\t_\\tSpaceAfter=No\\n34\\t.\\t.\\tPUNCT\\tpunc\\t_\\t6\\tpunct\\t_\\tSpaceAfter=No\\n\\n'"
      ]
     },
     "execution_count": 50,
     "metadata": {},
     "output_type": "execute_result"
    }
   ],
   "source": [
    "for s in sentences:\n",
    "    model.tag(s)\n",
    "    model.parse(s)\n",
    "model.write(sentences, \"conllu\")"
   ]
  }
 ],
 "metadata": {
  "kernelspec": {
   "display_name": "Python 3",
   "language": "python",
   "name": "python3"
  },
  "language_info": {
   "codemirror_mode": {
    "name": "ipython",
    "version": 3
   },
   "file_extension": ".py",
   "mimetype": "text/x-python",
   "name": "python",
   "nbconvert_exporter": "python",
   "pygments_lexer": "ipython3",
   "version": "3.5.2"
  }
 },
 "nbformat": 4,
 "nbformat_minor": 2
}
