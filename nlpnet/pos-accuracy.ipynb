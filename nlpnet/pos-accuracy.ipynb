{
 "cells": [
  {
   "cell_type": "code",
   "execution_count": 1,
   "metadata": {
    "collapsed": false,
    "deletable": true,
    "editable": true
   },
   "outputs": [
    {
     "data": {
      "text/plain": [
       "['Nessa época, Fishel teria conhecido o ginecologista britânico Robert Winston, a quem convidou para um encontro científico promovido por Antinori.',\n",
       " 'Nenhum filme brasileiro foi escolhido, quebrando assim a expectativa criada em torno de «Alma Corsária» de Carlos Reichenbach e «Mil e Uma» de Suzana de Moraes.',\n",
       " 'Na terceira colocação, 34 pontos, a Juventus de Turim visita o Genoa, 22, no limiar do rebaixamento.',\n",
       " 'O projeto vem sendo implementado, em caráter experimental, em três escolas: Morumbi, Visconde de Porto Seguro (particulares) e Godofredo Furtado (estadual).',\n",
       " 'O cineasta italiano Franco Zefirelli revelou que, para iludir o serviço militar durante o período fascista, se tornou um partisan e acabou matando um soldado alemão.',\n",
       " 'Mas é também preciso a sociedade mobilizar-se para sensibilizar o futuro Congresso Nacional na promoção de reformas constitucionais indispensáveis ao êxito das mudanças pretendidas.',\n",
       " 'Na Anhanguera, que une São Paulo a Ribeirão Preto, costuma haver neblina pesada entre o km 21 e o km 43, também perto de Perus e Cajamar.',\n",
       " 'Mesmo entendendo suas explicações sobre o programa de governo, entendo que ele tinha que ter um programa de governo, que vai dar um meio de cobrar depois.',\n",
       " 'O mais perigoso é na região da Serra das Conchas, entre o km 129 e o km 162, logo após Tatuí, para quem vai para o interior.',\n",
       " 'O prefeito de Juazeiro, Manoel Salviano (PSDB), disse que qualquer funcionário que tenha participado da recepção «foi espontaneamente, sem nenhuma pressão da prefeitura».']"
      ]
     },
     "execution_count": 1,
     "metadata": {},
     "output_type": "execute_result"
    }
   ],
   "source": [
    "import pandas as pd\n",
    "import re\n",
    "\n",
    "sentencas = []\n",
    "textRegex = re.compile(r'text=\\\"([^\\\"]+)\\\"')\n",
    "\n",
    "with open(\"../corpus/sentençasSelecionadas.txt\", \"r\", encoding = \"utf8\") as file:\n",
    "    for line in file:\n",
    "        \n",
    "        if line.find(\"<s id\") >= 0:\n",
    "            sentencas.append(textRegex.findall(line)[0])\n",
    "            \n",
    "sentencas"
   ]
  },
  {
   "cell_type": "code",
   "execution_count": 2,
   "metadata": {
    "collapsed": true,
    "deletable": true,
    "editable": true
   },
   "outputs": [],
   "source": [
    "import future\n",
    "import nlpnet\n",
    "nlpnet.set_data_dir('./nlpnet_data/')"
   ]
  },
  {
   "cell_type": "code",
   "execution_count": 3,
   "metadata": {
    "collapsed": false,
    "deletable": true,
    "editable": true
   },
   "outputs": [
    {
     "name": "stdout",
     "output_type": "stream",
     "text": [
      "[[('Nessa', 'PREP+PROADJ'), ('época', 'N'), (',', 'PU'), ('Fishel', 'NPROP'), ('teria', 'V'), ('conhecido', 'PCP'), ('o', 'ART'), ('ginecologista', 'N'), ('britânico', 'ADJ'), ('Robert', 'NPROP'), ('Winston', 'NPROP'), (',', 'PU'), ('a', 'PREP'), ('quem', 'PRO-KS'), ('convidou', 'V'), ('para', 'PREP'), ('um', 'ART'), ('encontro', 'N'), ('científico', 'ADJ'), ('promovido', 'PCP'), ('por', 'PREP'), ('Antinori', 'NPROP'), ('.', 'PU')]]\n",
      "---\n",
      "[[('Nenhum', 'PROADJ'), ('filme', 'N'), ('brasileiro', 'ADJ'), ('foi', 'V'), ('escolhido', 'PCP'), (',', 'PU'), ('quebrando', 'V'), ('assim', 'ADV'), ('a', 'ART'), ('expectativa', 'N'), ('criada', 'PCP'), ('em', 'PREP'), ('torno', 'PREP'), ('de', 'PREP'), ('«Alma', 'NPROP'), ('Corsária»', 'NPROP'), ('de', 'NPROP'), ('Carlos', 'NPROP'), ('Reichenbach', 'NPROP'), ('e', 'KC'), ('«Mil', 'NPROP'), ('e', 'KC'), ('Uma»', 'NPROP'), ('de', 'NPROP'), ('Suzana', 'NPROP'), ('de', 'NPROP'), ('Moraes', 'NPROP'), ('.', 'PU')]]\n",
      "---\n",
      "[[('Na', 'PREP+ART'), ('terceira', 'ADJ'), ('colocação', 'N'), (',', 'PU'), ('34', 'NUM'), ('pontos', 'N'), (',', 'PU'), ('a', 'ART'), ('Juventus', 'NPROP'), ('de', 'PREP'), ('Turim', 'NPROP'), ('visita', 'V'), ('o', 'ART'), ('Genoa', 'NPROP'), (',', 'PU'), ('22', 'NUM'), (',', 'PU'), ('no', 'PREP+ART'), ('limiar', 'N'), ('do', 'PREP+ART'), ('rebaixamento', 'N'), ('.', 'PU')]]\n",
      "---\n",
      "[[('O', 'ART'), ('projeto', 'N'), ('vem', 'V'), ('sendo', 'V'), ('implementado', 'PCP'), (',', 'PU'), ('em', 'PREP'), ('caráter', 'N'), ('experimental', 'ADJ'), (',', 'PU'), ('em', 'PREP'), ('três', 'NUM'), ('escolas', 'N'), (':', 'PU'), ('Morumbi', 'NPROP'), (',', 'PU'), ('Visconde', 'NPROP'), ('de', 'NPROP'), ('Porto', 'NPROP'), ('Seguro', 'NPROP'), ('(', 'PU'), ('particulares', 'ADJ'), (')', 'PU'), ('e', 'KC'), ('Godofredo', 'NPROP'), ('Furtado', 'NPROP'), ('(', 'PU'), ('estadual', 'ADJ'), (')', 'PU'), ('.', 'PU')]]\n",
      "---\n",
      "[[('O', 'ART'), ('cineasta', 'N'), ('italiano', 'ADJ'), ('Franco', 'NPROP'), ('Zefirelli', 'NPROP'), ('revelou', 'V'), ('que', 'KS'), (',', 'PU'), ('para', 'PREP'), ('iludir', 'V'), ('o', 'ART'), ('serviço', 'N'), ('militar', 'ADJ'), ('durante', 'PREP'), ('o', 'ART'), ('período', 'N'), ('fascista', 'ADJ'), (',', 'PU'), ('se', 'PROPESS'), ('tornou', 'V'), ('um', 'ART'), ('partisan', 'N'), ('e', 'KC'), ('acabou', 'V'), ('matando', 'V'), ('um', 'ART'), ('soldado', 'N'), ('alemão', 'ADJ'), ('.', 'PU')]]\n",
      "---\n",
      "[[('Mas', 'KC'), ('é', 'V'), ('também', 'PDEN'), ('preciso', 'ADJ'), ('a', 'ART'), ('sociedade', 'N'), ('mobilizar-se', 'ADJ'), ('para', 'PREP'), ('sensibilizar', 'V'), ('o', 'ART'), ('futuro', 'ADJ'), ('Congresso', 'NPROP'), ('Nacional', 'NPROP'), ('na', 'PREP+ART'), ('promoção', 'N'), ('de', 'PREP'), ('reformas', 'N'), ('constitucionais', 'ADJ'), ('indispensáveis', 'ADJ'), ('ao', 'PREP+ART'), ('êxito', 'N'), ('das', 'PREP+ART'), ('mudanças', 'N'), ('pretendidas', 'PCP'), ('.', 'PU')]]\n",
      "---\n",
      "[[('Na', 'PREP+ART'), ('Anhanguera', 'NPROP'), (',', 'PU'), ('que', 'PRO-KS'), ('une', 'V'), ('São', 'NPROP'), ('Paulo', 'NPROP'), ('a', 'ART'), ('Ribeirão', 'NPROP'), ('Preto', 'NPROP'), (',', 'PU'), ('costuma', 'V'), ('haver', 'V'), ('neblina', 'N'), ('pesada', 'ADJ'), ('entre', 'PREP'), ('o', 'ART'), ('km', 'N'), ('21', 'N'), ('e', 'KC'), ('o', 'ART'), ('km', 'N'), ('43', 'N'), (',', 'PU'), ('também', 'PDEN'), ('perto', 'PREP'), ('de', 'PREP'), ('Perus', 'NPROP'), ('e', 'KC'), ('Cajamar', 'NPROP'), ('.', 'PU')]]\n",
      "---\n",
      "[[('Mesmo', 'PDEN'), ('entendendo', 'V'), ('suas', 'PROADJ'), ('explicações', 'N'), ('sobre', 'PREP'), ('o', 'ART'), ('programa', 'N'), ('de', 'PREP'), ('governo', 'N'), (',', 'PU'), ('entendo', 'V'), ('que', 'KS'), ('ele', 'PROPESS'), ('tinha', 'V'), ('que', 'KS'), ('ter', 'V'), ('um', 'ART'), ('programa', 'N'), ('de', 'PREP'), ('governo', 'N'), (',', 'PU'), ('que', 'PRO-KS'), ('vai', 'V'), ('dar', 'V'), ('um', 'ART'), ('meio', 'N'), ('de', 'PREP'), ('cobrar', 'V'), ('depois', 'ADV'), ('.', 'PU')]]\n",
      "---\n",
      "[[('O', 'PROSUB'), ('mais', 'ADV'), ('perigoso', 'ADJ'), ('é', 'V'), ('na', 'PREP+ART'), ('região', 'N'), ('da', 'PREP+ART'), ('Serra', 'NPROP'), ('das', 'NPROP'), ('Conchas', 'NPROP'), (',', 'PU'), ('entre', 'PREP'), ('o', 'ART'), ('km', 'N'), ('129', 'N'), ('e', 'KC'), ('o', 'ART'), ('km', 'N'), ('162', 'N'), (',', 'PU'), ('logo', 'ADV'), ('após', 'PREP'), ('Tatuí', 'NPROP'), (',', 'PU'), ('para', 'PREP'), ('quem', 'PRO-KS'), ('vai', 'V'), ('para', 'PREP'), ('o', 'ART'), ('interior', 'N'), ('.', 'PU')]]\n",
      "---\n",
      "[[('O', 'ART'), ('prefeito', 'N'), ('de', 'PREP'), ('Juazeiro', 'NPROP'), (',', 'PU'), ('Manoel', 'NPROP'), ('Salviano', 'NPROP'), ('(', 'PU'), ('PSDB', 'NPROP'), (')', 'PU'), (',', 'PU'), ('disse', 'V'), ('que', 'KS'), ('qualquer', 'PROADJ'), ('funcionário', 'N'), ('que', 'PRO-KS'), ('tenha', 'V'), ('participado', 'PCP'), ('da', 'PREP+ART'), ('recepção', 'N'), ('«foi', 'V'), ('espontaneamente', 'ADV'), (',', 'PU'), ('sem', 'PREP'), ('nenhuma', 'PROADJ'), ('pressão', 'N'), ('da', 'PREP+ART'), ('prefeitura»', 'N'), ('.', 'PU')]]\n",
      "---\n"
     ]
    }
   ],
   "source": [
    "tagger = nlpnet.POSTagger()\n",
    "\n",
    "for frase in sentencas:\n",
    "    pos = tagger.tag(frase)\n",
    "    print(pos)\n",
    "    print('---')"
   ]
  },
  {
   "cell_type": "code",
   "execution_count": 4,
   "metadata": {
    "collapsed": true,
    "deletable": true,
    "editable": true
   },
   "outputs": [],
   "source": [
    "# nlpnet POS list: http://nilc.icmc.usp.br/macmorpho/macmorpho-manual.pdf\n",
    "\n",
    "#ARTIGO (ART)\n",
    "#ADJETIVO (ADJ)\n",
    "#NOME (N)\n",
    "#NOME PRÓPRIO (NPROP)\n",
    "#NUMERAL (NUM)\n",
    "#PRONOME ADJETIVO (PROADJ)\n",
    "#PRONOME SUBSTANTIVO (PROSUB)\n",
    "#PRONOME PESSOAL (PROPESS)\n",
    "#PRONOME CONECTIVO SUBORDINATIVO (PRO-KS)\n",
    "#PRONOME CONECTIVO SUBORDIN. RELATIVO (PRO-KSREL)\n",
    "#ADVÉRBIO (ADV)\n",
    "#ADVÉRBIO CONECTIVO SUBORDINATIVO (ADV-KS)\n",
    "#ADVÉRBIO RELATIVO SUBORDINATIVO (ADV-KS-REL)\n",
    "#CONJUNÇÃO COORDENATIVA (KC)\n",
    "#CONJUNÇÃO SUBORDINATIVA (KS)\n",
    "#PREPOSIÇÃO (PREP)\n",
    "#INTERJEIÇÃO (IN)\n",
    "#VERBO (V)\n",
    "#VERBO AUXILIAR (VAUX)\n",
    "#PARTICÍPIO (PCP)\n",
    "#PALAVRA DENOTATIVA (PDEN)\n",
    "#SÍMBOLO DE MOEDA CORRENTE (CUR)\n",
    "\n",
    "#tags complementares\n",
    "#ESTRANGEIRISMOS (TAG|EST)\n",
    "#APOSTOS (TAG|AP)\n",
    "#DADOS (TAG|DAD)\n",
    "#NÚMEROS DE TELEFONES (TAG|TEL)\n",
    "#DATAS (TAG|DAT)\n",
    "#HORAS (TAG|HOR)\n",
    "#CONTRAÇÕES E ÊNCLISES (TAG|+)\n",
    "#MESÓCLISE (TAG|!)\n",
    "#DESCONTINUIDADE (TAG|[ ... TAG|])\n",
    "#\n",
    "\n",
    "\n"
   ]
  },
  {
   "cell_type": "code",
   "execution_count": 5,
   "metadata": {
    "collapsed": false,
    "deletable": true,
    "editable": true
   },
   "outputs": [
    {
     "name": "stdout",
     "output_type": "stream",
     "text": [
      "[[160271]]\n",
      "[[160271]]\n"
     ]
    }
   ],
   "source": [
    "tagger = nlpnet.SRLTagger()"
   ]
  },
  {
   "cell_type": "code",
   "execution_count": 10,
   "metadata": {
    "collapsed": false
   },
   "outputs": [
    {
     "name": "stdout",
     "output_type": "stream",
     "text": [
      "[('conhecido', {'AM-TMP': ['Nessa', 'época'], 'AM-PRD': ['a', 'quem', 'convidou', 'para', 'um', 'encontro', 'científico', 'promovido', 'por', 'Antinori'], 'V': ['conhecido'], 'A0': ['Robert', 'Winston', ',']}), ('convidou', {'A2': ['para', 'um', 'encontro', 'científico', 'promovido', 'por', 'Antinori'], 'V': ['convidou'], 'A0': ['quem']})]\n"
     ]
    }
   ],
   "source": [
    "sem = tagger.tag(sentencas[0])[0]\n",
    "print(sem.arg_structures)"
   ]
  },
  {
   "cell_type": "code",
   "execution_count": null,
   "metadata": {
    "collapsed": true
   },
   "outputs": [],
   "source": []
  }
 ],
 "metadata": {
  "kernelspec": {
   "display_name": "Python 3",
   "language": "python",
   "name": "python3"
  },
  "language_info": {
   "codemirror_mode": {
    "name": "ipython",
    "version": 3
   },
   "file_extension": ".py",
   "mimetype": "text/x-python",
   "name": "python",
   "nbconvert_exporter": "python",
   "pygments_lexer": "ipython3",
   "version": "3.5.2"
  }
 },
 "nbformat": 4,
 "nbformat_minor": 2
}
