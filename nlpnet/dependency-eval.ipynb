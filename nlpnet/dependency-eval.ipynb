{
 "cells": [
  {
   "cell_type": "code",
   "execution_count": 1,
   "metadata": {
    "collapsed": false,
    "deletable": true,
    "editable": true
   },
   "outputs": [
    {
     "data": {
      "text/plain": [
       "'BRASÍLIA Pesquisa Datafolha publicada hoje revela um dado supreendente: recusando uma postura radical, a esmagadora maioria (77%) dos eleitores quer o PT participando do Governo Fernando Henrique Cardoso.'"
      ]
     },
     "execution_count": 1,
     "metadata": {},
     "output_type": "execute_result"
    }
   ],
   "source": [
    "import re\n",
    "registro = \"\"\n",
    "palavras = []\n",
    "with open(\"../corpus/Bosque_CF_7.4_cgd.txt\", \"r\", encoding = \"ISO-8859-1\") as file:\n",
    "    for line in file:\n",
    "        \n",
    "        if len(registro) > 0:\n",
    "            palavras.append(line)\n",
    "        \n",
    "        if line.find(\"id=\\\"2\") >= 0:\n",
    "            registro = line\n",
    "        \n",
    "        if len(registro) > 0 and line.find(\"</s>\") >= 0:\n",
    "            break\n",
    "            \n",
    "registro\n",
    "\n",
    "textRegex = re.compile(r'text=\\\"([^\\\"]+)\\\"')\n",
    "frase = textRegex.findall(registro)[0]\n",
    "frase"
   ]
  },
  {
   "cell_type": "code",
   "execution_count": 7,
   "metadata": {
    "collapsed": false,
    "deletable": true,
    "editable": true
   },
   "outputs": [],
   "source": [
    "import future\n",
    "import nlpnet\n",
    "nlpnet.set_data_dir('./nlpnet_data/')"
   ]
  },
  {
   "cell_type": "code",
   "execution_count": 8,
   "metadata": {
    "collapsed": false,
    "deletable": true,
    "editable": true
   },
   "outputs": [
    {
     "data": {
      "text/plain": [
       "[[('BRASÍLIA', 'NPROP'),\n",
       "  ('Pesquisa', 'NPROP'),\n",
       "  ('Datafolha', 'NPROP'),\n",
       "  ('publicada', 'PCP'),\n",
       "  ('hoje', 'ADV'),\n",
       "  ('revela', 'V'),\n",
       "  ('um', 'ART'),\n",
       "  ('dado', 'N'),\n",
       "  ('supreendente', 'ADJ'),\n",
       "  (':', 'PU'),\n",
       "  ('recusando', 'V'),\n",
       "  ('uma', 'ART'),\n",
       "  ('postura', 'N'),\n",
       "  ('radical', 'ADJ'),\n",
       "  (',', 'PU'),\n",
       "  ('a', 'ART'),\n",
       "  ('esmagadora', 'ADJ'),\n",
       "  ('maioria', 'N'),\n",
       "  ('(', 'PU'),\n",
       "  ('77', 'NUM'),\n",
       "  ('%', 'N'),\n",
       "  (')', 'PU'),\n",
       "  ('dos', 'PREP+ART'),\n",
       "  ('eleitores', 'N'),\n",
       "  ('quer', 'V'),\n",
       "  ('o', 'ART'),\n",
       "  ('PT', 'NPROP'),\n",
       "  ('participando', 'V'),\n",
       "  ('do', 'PREP+ART'),\n",
       "  ('Governo', 'N'),\n",
       "  ('Fernando', 'NPROP'),\n",
       "  ('Henrique', 'NPROP'),\n",
       "  ('Cardoso', 'NPROP'),\n",
       "  ('.', 'PU')]]"
      ]
     },
     "execution_count": 8,
     "metadata": {},
     "output_type": "execute_result"
    }
   ],
   "source": [
    "tagger = nlpnet.POSTagger()\n",
    "tagger.tag(frase)"
   ]
  },
  {
   "cell_type": "code",
   "execution_count": 12,
   "metadata": {
    "collapsed": false
   },
   "outputs": [
    {
     "name": "stdout",
     "output_type": "stream",
     "text": [
      "[[160271]]\n",
      "[[160271]]\n"
     ]
    },
    {
     "data": {
      "text/plain": [
       "['BRASÍLIA',\n",
       " 'Pesquisa',\n",
       " 'Datafolha',\n",
       " 'publicada',\n",
       " 'hoje',\n",
       " 'revela',\n",
       " 'um',\n",
       " 'dado',\n",
       " 'supreendente',\n",
       " ':',\n",
       " 'recusando',\n",
       " 'uma',\n",
       " 'postura',\n",
       " 'radical',\n",
       " ',',\n",
       " 'a',\n",
       " 'esmagadora',\n",
       " 'maioria',\n",
       " '(',\n",
       " '77',\n",
       " '%',\n",
       " ')',\n",
       " 'dos',\n",
       " 'eleitores',\n",
       " 'quer',\n",
       " 'o',\n",
       " 'PT',\n",
       " 'participando',\n",
       " 'do',\n",
       " 'Governo',\n",
       " 'Fernando',\n",
       " 'Henrique',\n",
       " 'Cardoso',\n",
       " '.']"
      ]
     },
     "execution_count": 12,
     "metadata": {},
     "output_type": "execute_result"
    }
   ],
   "source": [
    "tagger = nlpnet.SRLTagger()\n",
    "sent = tagger.tag(frase)[0]\n",
    "sent.tokens"
   ]
  },
  {
   "cell_type": "code",
   "execution_count": 13,
   "metadata": {
    "collapsed": false
   },
   "outputs": [
    {
     "data": {
      "text/plain": [
       "[('revela',\n",
       "  {'A0': ['BRASÍLIA', 'Pesquisa', 'Datafolha', 'publicada', 'hoje'],\n",
       "   'A1': ['um', 'dado', 'supreendente'],\n",
       "   'A2': ['a',\n",
       "    'esmagadora',\n",
       "    'maioria',\n",
       "    '(',\n",
       "    '77',\n",
       "    '%',\n",
       "    ')',\n",
       "    'dos',\n",
       "    'eleitores',\n",
       "    'quer',\n",
       "    'o',\n",
       "    'PT',\n",
       "    'participando',\n",
       "    'do',\n",
       "    'Governo',\n",
       "    'Fernando',\n",
       "    'Henrique',\n",
       "    'Cardoso'],\n",
       "   'AM-ADV': ['recusando', 'uma', 'postura', 'radical'],\n",
       "   'V': ['revela']}),\n",
       " ('recusando', {'A1': ['uma', 'postura', 'radical'], 'V': ['recusando']}),\n",
       " ('quer',\n",
       "  {'A0': ['a',\n",
       "    'esmagadora',\n",
       "    'maioria',\n",
       "    '(',\n",
       "    '77',\n",
       "    '%',\n",
       "    ')',\n",
       "    'dos',\n",
       "    'eleitores'],\n",
       "   'A1': ['o', 'PT'],\n",
       "   'AM-ADV': ['recusando', 'uma', 'postura', 'radical'],\n",
       "   'AM-PRD': ['participando',\n",
       "    'do',\n",
       "    'Governo',\n",
       "    'Fernando',\n",
       "    'Henrique',\n",
       "    'Cardoso'],\n",
       "   'V': ['quer']})]"
      ]
     },
     "execution_count": 13,
     "metadata": {},
     "output_type": "execute_result"
    }
   ],
   "source": [
    "sent.arg_structures"
   ]
  }
 ],
 "metadata": {
  "kernelspec": {
   "display_name": "Python 3",
   "language": "python",
   "name": "python3"
  },
  "language_info": {
   "codemirror_mode": {
    "name": "ipython",
    "version": 3
   },
   "file_extension": ".py",
   "mimetype": "text/x-python",
   "name": "python",
   "nbconvert_exporter": "python",
   "pygments_lexer": "ipython3",
   "version": "3.5.2"
  }
 },
 "nbformat": 4,
 "nbformat_minor": 2
}
