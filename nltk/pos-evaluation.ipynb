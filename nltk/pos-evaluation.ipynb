{
 "cells": [
  {
   "cell_type": "code",
   "execution_count": 1,
   "metadata": {
    "collapsed": true
   },
   "outputs": [],
   "source": [
    "def simplify_tag(t):\n",
    "    if \"+\" in t:\n",
    "        return t[t.index(\"+\")+1:]\n",
    "    else:\n",
    "        return t\n",
    "    \n",
    "import re"
   ]
  },
  {
   "cell_type": "code",
   "execution_count": 2,
   "metadata": {
    "collapsed": true
   },
   "outputs": [],
   "source": [
    "import nltk\n",
    "from nltk.corpus import floresta\n",
    "train = floresta.tagged_sents()\n",
    "train = [[(w.lower(),simplify_tag(t)) for (w,t) in sent] for sent in train if sent]"
   ]
  },
  {
   "cell_type": "code",
   "execution_count": 3,
   "metadata": {
    "collapsed": true
   },
   "outputs": [],
   "source": [
    "tagger0 = nltk.DefaultTagger('n')\n",
    "tagger1 = nltk.UnigramTagger(train, backoff=tagger0)\n",
    "tagger2 = nltk.BigramTagger(train, backoff=tagger1)"
   ]
  },
  {
   "cell_type": "code",
   "execution_count": 4,
   "metadata": {},
   "outputs": [
    {
     "data": {
      "text/plain": [
       "'<s id=\"2\" ref=\"CF1-3\" source=\"CETENFolha n=1 cad=Opinião sec=opi sem=94a #W\" forest=\"1\" text=\"BRASÍLIA Pesquisa Datafolha publicada hoje revela um dado supreendente: recusando uma postura radical, a esmagadora maioria (77%) dos eleitores quer o PT participando do Governo Fernando Henrique Cardoso.\">\\n'"
      ]
     },
     "execution_count": 4,
     "metadata": {},
     "output_type": "execute_result"
    }
   ],
   "source": [
    "registro = \"\"\n",
    "palavras = []\n",
    "with open(\"../corpus/Bosque_CF_7.4_cgd.txt\", \"r\", encoding = \"ISO-8859-1\") as file:\n",
    "    for line in file:\n",
    "        \n",
    "        if len(registro) > 0:\n",
    "            palavras.append(line)\n",
    "        \n",
    "        if line.find(\"id=\\\"2\") >= 0:\n",
    "            registro = line\n",
    "        \n",
    "        if len(registro) > 0 and line.find(\"</s>\") >= 0:\n",
    "            break\n",
    "            \n",
    "registro"
   ]
  },
  {
   "cell_type": "code",
   "execution_count": 5,
   "metadata": {},
   "outputs": [
    {
     "data": {
      "text/plain": [
       "'BRASÍLIA Pesquisa Datafolha publicada hoje revela um dado supreendente: recusando uma postura radical, a esmagadora maioria (77%) dos eleitores quer o PT participando do Governo Fernando Henrique Cardoso.'"
      ]
     },
     "execution_count": 5,
     "metadata": {},
     "output_type": "execute_result"
    }
   ],
   "source": [
    "textRegex = re.compile(r'text=\\\"([^\\\"]+)\\\"')\n",
    "frase = textRegex.findall(registro)[0]\n",
    "frase"
   ]
  },
  {
   "cell_type": "code",
   "execution_count": 6,
   "metadata": {},
   "outputs": [
    {
     "name": "stdout",
     "output_type": "stream",
     "text": [
      "Brasília, n, PROP\n",
      "Pesquisa=Datafolha, n, N\n",
      "publicada, v-pcp, V\n",
      "hoje, adv, ADV\n",
      "revela, v-fin, V\n",
      "um, art, ART\n",
      "dado, n, N\n",
      "supreendente, adj, ADJ\n",
      "$: #9->0 \n",
      ", n, \n",
      "\n",
      "recusando, v-ger, V\n",
      "uma, art, ART\n",
      "postura, n, N\n",
      "radical, adj, ADJ\n",
      "$, #14->0 \n",
      ", n, \n",
      "\n",
      "a, prp, ART\n",
      "esmagadora, adj, ADJ\n",
      "maioria, n, N\n",
      "$( #18->0 \n",
      ", n, \n",
      "\n",
      "$77, n, NUM\n",
      "%, n, N\n",
      "$) #21->0 \n",
      ", n, \n",
      "\n",
      "de, prp, PRP\n",
      "os, art, ART\n",
      "eleitores, n, N\n",
      "quer, v-fin, V\n",
      "o, art, ART\n",
      "PT, n, PROP\n",
      "participando, v-ger, V\n",
      "de, prp, PRP\n",
      "o, art, ART\n",
      "Governo, n, N\n",
      "Fernando=Henrique=Cardoso, n, PROP\n",
      "$. #33->0 \n",
      ", n, \n",
      "\n"
     ]
    }
   ],
   "source": [
    "#tokens = nltk.word_tokenize(frase)\n",
    "tokens = [palavra.split('\\t')[0] for palavra in palavras]\n",
    "pos = tagger2.tag(tokens)\n",
    "for idx in range(0,len(tokens)-1):\n",
    "    print(pos[idx][0] + \", \" + pos[idx][1] + \", \" + palavras[idx].split(' ')[2])"
   ]
  },
  {
   "cell_type": "code",
   "execution_count": 7,
   "metadata": {},
   "outputs": [
    {
     "name": "stdout",
     "output_type": "stream",
     "text": [
      "(S\n",
      "  (PERSON Brasília/NNP)\n",
      "  Pesquisa=Datafolha/NNP\n",
      "  publicada/NN\n",
      "  hoje/NN\n",
      "  revela/NN\n",
      "  um/JJ\n",
      "  dado/NN\n",
      "  supreendente/VBD\n",
      "  $: #9->0 \n",
      "/JJ\n",
      "  recusando/NN\n",
      "  uma/JJ\n",
      "  postura/JJ\n",
      "  radical/JJ\n",
      "  $, #14->0 \n",
      "/NN\n",
      "  a/DT\n",
      "  esmagadora/JJ\n",
      "  maioria/NN\n",
      "  $( #18->0 \n",
      "/JJ\n",
      "  $77/CD\n",
      "  %/NN\n",
      "  $) #21->0 \n",
      "/JJ\n",
      "  de/FW\n",
      "  os/FW\n",
      "  eleitores/NNS\n",
      "  quer/VBP\n",
      "  o/JJ\n",
      "  PT/NNP\n",
      "  participando/NN\n",
      "  de/FW\n",
      "  o/FW\n",
      "  Governo/NNP\n",
      "  Fernando=Henrique=Cardoso/NNP\n",
      "  $. #33->0 \n",
      "/JJ\n",
      "  </s>\n",
      "/NN)\n"
     ]
    }
   ],
   "source": [
    "pos = nltk.pos_tag(tokens)\n",
    "sentt = nltk.ne_chunk(pos)\n",
    "print(sentt)"
   ]
  },
  {
   "cell_type": "code",
   "execution_count": 8,
   "metadata": {},
   "outputs": [
    {
     "data": {
      "image/png": "[encoded data removed]",
      "text/plain": [
       "Tree('S', [Tree('PERSON', [('Brasília', 'NNP')]), ('Pesquisa=Datafolha', 'NNP'), ('publicada', 'NN'), ('hoje', 'NN'), ('revela', 'NN'), ('um', 'JJ'), ('dado', 'NN'), ('supreendente', 'VBD'), ('$: #9->0 \\n', 'JJ'), ('recusando', 'NN'), ('uma', 'JJ'), ('postura', 'JJ'), ('radical', 'JJ'), ('$, #14->0 \\n', 'NN'), ('a', 'DT'), ('esmagadora', 'JJ'), ('maioria', 'NN'), ('$( #18->0 \\n', 'JJ'), ('$77', 'CD'), ('%', 'NN'), ('$) #21->0 \\n', 'JJ'), ('de', 'FW'), ('os', 'FW'), ('eleitores', 'NNS'), ('quer', 'VBP'), ('o', 'JJ'), ('PT', 'NNP'), ('participando', 'NN'), ('de', 'FW'), ('o', 'FW'), ('Governo', 'NNP'), ('Fernando=Henrique=Cardoso', 'NNP'), ('$. #33->0 \\n', 'JJ'), ('</s>\\n', 'NN')])"
      ]
     },
     "execution_count": 8,
     "metadata": {},
     "output_type": "execute_result"
    }
   ],
   "source": [
    "sentt"
   ]
  }
 ],
 "metadata": {
  "kernelspec": {
   "display_name": "Python 3",
   "language": "python",
   "name": "python3"
  },
  "language_info": {
   "codemirror_mode": {
    "name": "ipython",
    "version": 3
   },
   "file_extension": ".py",
   "mimetype": "text/x-python",
   "name": "python",
   "nbconvert_exporter": "python",
   "pygments_lexer": "ipython3",
   "version": "3.6.1"
  }
 },
 "nbformat": 4,
 "nbformat_minor": 2
}
