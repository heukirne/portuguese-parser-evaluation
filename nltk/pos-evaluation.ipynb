{
 "cells": [
  {
   "cell_type": "code",
   "execution_count": 42,
   "metadata": {
    "collapsed": true
   },
   "outputs": [],
   "source": [
    "def simplify_tag(t):\n",
    "    if \"+\" in t:\n",
    "        return t[t.index(\"+\")+1:]\n",
    "    else:\n",
    "        return t\n",
    "    \n",
    "import re"
   ]
  },
  {
   "cell_type": "code",
   "execution_count": 6,
   "metadata": {
    "collapsed": false,
    "deletable": true,
    "editable": true
   },
   "outputs": [],
   "source": [
    "import nltk\n",
    "from nltk.corpus import floresta\n",
    "train = floresta.tagged_sents()\n",
    "train = [[(w.lower(),simplify_tag(t)) for (w,t) in sent] for sent in train if sent]"
   ]
  },
  {
   "cell_type": "code",
   "execution_count": 7,
   "metadata": {
    "collapsed": false,
    "deletable": true,
    "editable": true
   },
   "outputs": [],
   "source": [
    "tagger0 = nltk.DefaultTagger('n')\n",
    "tagger1 = nltk.UnigramTagger(train, backoff=tagger0)\n",
    "tagger2 = nltk.BigramTagger(train, backoff=tagger1)"
   ]
  },
  {
   "cell_type": "code",
   "execution_count": 46,
   "metadata": {
    "collapsed": false
   },
   "outputs": [
    {
     "data": {
      "text/plain": [
       "'<s id=\"2\" ref=\"CF1-3\" source=\"CETENFolha n=1 cad=Opinião sec=opi sem=94a #W\" forest=\"1\" text=\"BRASÍLIA Pesquisa Datafolha publicada hoje revela um dado supreendente: recusando uma postura radical, a esmagadora maioria (77%) dos eleitores quer o PT participando do Governo Fernando Henrique Cardoso.\">\\n'"
      ]
     },
     "execution_count": 46,
     "metadata": {},
     "output_type": "execute_result"
    }
   ],
   "source": [
    "registro = \"\"\n",
    "palavras = []\n",
    "with open(\"../corpus/Bosque_CF_7.4_cgd.txt\", \"r\", encoding = \"ISO-8859-1\") as file:\n",
    "    for line in file:\n",
    "        \n",
    "        if len(registro) > 0:\n",
    "            palavras.append(line)\n",
    "        \n",
    "        if line.find(\"id=\\\"2\") >= 0:\n",
    "            registro = line\n",
    "        \n",
    "        if len(registro) > 0 and line.find(\"</s>\") >= 0:\n",
    "            break\n",
    "            \n",
    "registro"
   ]
  },
  {
   "cell_type": "code",
   "execution_count": 34,
   "metadata": {
    "collapsed": false
   },
   "outputs": [
    {
     "data": {
      "text/plain": [
       "'BRASÍLIA Pesquisa Datafolha publicada hoje revela um dado supreendente: recusando uma postura radical, a esmagadora maioria (77%) dos eleitores quer o PT participando do Governo Fernando Henrique Cardoso.'"
      ]
     },
     "execution_count": 34,
     "metadata": {},
     "output_type": "execute_result"
    }
   ],
   "source": [
    "textRegex = re.compile(r'text=\\\"([^\\\"]+)\\\"')\n",
    "frase = textRegex.findall(registro)[0]\n",
    "frase"
   ]
  },
  {
   "cell_type": "code",
   "execution_count": 57,
   "metadata": {
    "collapsed": false
   },
   "outputs": [
    {
     "name": "stdout",
     "output_type": "stream",
     "text": [
      "0, BRASÍLIA, n, PROP\n",
      "1, Pesquisa, n, N\n",
      "2, Datafolha, n, V\n",
      "3, publicada, v-pcp, ADV\n",
      "4, hoje, adv, V\n",
      "5, revela, v-fin, ART\n",
      "6, um, art, N\n",
      "7, dado, n, ADJ\n",
      "8, supreendente, adj, \n",
      "\n",
      "9, :, n, V\n",
      "10, recusando, v-ger, ART\n",
      "11, uma, art, N\n",
      "12, postura, n, ADJ\n",
      "13, radical, adj, \n",
      "\n",
      "14, ,, ,, ART\n",
      "15, a, art, ADJ\n",
      "16, esmagadora, adj, N\n",
      "17, maioria, n, \n",
      "\n",
      "18, (, n, NUM\n",
      "19, 77, num, N\n",
      "20, %, n, \n",
      "\n",
      "21, ), n, PRP\n",
      "22, dos, prop, ART\n",
      "23, eleitores, n, N\n",
      "24, quer, v-fin, V\n",
      "25, o, art, ART\n",
      "26, PT, n, PROP\n",
      "27, participando, v-ger, V\n",
      "28, do, n, PRP\n",
      "29, Governo, n, ART\n",
      "30, Fernando, n, N\n",
      "31, Henrique, n, PROP\n",
      "32, Cardoso, n, \n",
      "\n"
     ]
    }
   ],
   "source": [
    "tokens = nltk.word_tokenize(frase)\n",
    "pos = tagger2.tag(tokens)\n",
    "for idx in range(0,len(tokens)-1):\n",
    "    print(str(idx) + \", \" + pos[idx][0] + \", \" + pos[idx][1] + \", \" + palavras[idx].split(' ')[2])"
   ]
  }
 ],
 "metadata": {
  "kernelspec": {
   "display_name": "Python 3",
   "language": "python",
   "name": "python3"
  },
  "language_info": {
   "codemirror_mode": {
    "name": "ipython",
    "version": 3
   },
   "file_extension": ".py",
   "mimetype": "text/x-python",
   "name": "python",
   "nbconvert_exporter": "python",
   "pygments_lexer": "ipython3",
   "version": "3.5.2"
  }
 },
 "nbformat": 4,
 "nbformat_minor": 2
}
