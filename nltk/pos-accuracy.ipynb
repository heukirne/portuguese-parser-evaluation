{
 "cells": [
  {
   "cell_type": "code",
   "execution_count": 1,
   "metadata": {
    "collapsed": true
   },
   "outputs": [],
   "source": [
    "def simplify_tag(t):\n",
    "    if \"+\" in t:\n",
    "        return t[t.index(\"+\")+1:]\n",
    "    else:\n",
    "        return t\n",
    "    \n",
    "import re"
   ]
  },
  {
   "cell_type": "code",
   "execution_count": 2,
   "metadata": {
    "collapsed": true
   },
   "outputs": [],
   "source": [
    "import nltk\n",
    "from nltk.corpus import floresta\n",
    "train = floresta.tagged_sents()\n",
    "train = [[(w.lower(),simplify_tag(t)) for (w,t) in sent] for sent in train if sent]"
   ]
  },
  {
   "cell_type": "code",
   "execution_count": 3,
   "metadata": {
    "collapsed": true
   },
   "outputs": [],
   "source": [
    "tagger0 = nltk.DefaultTagger('n')\n",
    "tagger1 = nltk.UnigramTagger(train, backoff=tagger0)\n",
    "tagger2 = nltk.BigramTagger(train, backoff=tagger1)"
   ]
  },
  {
   "cell_type": "code",
   "execution_count": 16,
   "metadata": {
    "collapsed": false
   },
   "outputs": [
    {
     "data": {
      "text/plain": [
       "['Nessa época, Fishel teria conhecido o ginecologista britânico Robert Winston, a quem convidou para um encontro científico promovido por Antinori.',\n",
       " 'Nenhum filme brasileiro foi escolhido, quebrando assim a expectativa criada em torno de «Alma Corsária» de Carlos Reichenbach e «Mil e Uma» de Suzana de Moraes.',\n",
       " 'Na terceira colocação, 34 pontos, a Juventus de Turim visita o Genoa, 22, no limiar do rebaixamento.',\n",
       " 'O projeto vem sendo implementado, em caráter experimental, em três escolas: Morumbi, Visconde de Porto Seguro (particulares) e Godofredo Furtado (estadual).',\n",
       " 'O cineasta italiano Franco Zefirelli revelou que, para iludir o serviço militar durante o período fascista, se tornou um partisan e acabou matando um soldado alemão.',\n",
       " 'Mas é também preciso a sociedade mobilizar-se para sensibilizar o futuro Congresso Nacional na promoção de reformas constitucionais indispensáveis ao êxito das mudanças pretendidas.',\n",
       " 'Na Anhanguera, que une São Paulo a Ribeirão Preto, costuma haver neblina pesada entre o km 21 e o km 43, também perto de Perus e Cajamar.',\n",
       " 'Mesmo entendendo suas explicações sobre o programa de governo, entendo que ele tinha que ter um programa de governo, que vai dar um meio de cobrar depois.',\n",
       " 'O mais perigoso é na região da Serra das Conchas, entre o km 129 e o km 162, logo após Tatuí, para quem vai para o interior.',\n",
       " 'O prefeito de Juazeiro, Manoel Salviano (PSDB), disse que qualquer funcionário que tenha participado da recepção «foi espontaneamente, sem nenhuma pressão da prefeitura».']"
      ]
     },
     "execution_count": 16,
     "metadata": {},
     "output_type": "execute_result"
    }
   ],
   "source": [
    "sentencas = []\n",
    "bosque = []\n",
    "textRegex = re.compile(r'text=\\\"([^\\\"]+)\\\"')\n",
    "\n",
    "with open(\"../corpus/sentençasSelecionadas.txt\", \"r\", encoding = \"utf8\") as file:\n",
    "    for line in file:\n",
    "        \n",
    "        if line.find(\"<s id\") >= 0:\n",
    "            sentencas.append(textRegex.findall(line)[0])\n",
    "        else:\n",
    "            if len(line) > 3:\n",
    "                bosque.append(line)\n",
    "            \n",
    "sentencas"
   ]
  },
  {
   "cell_type": "code",
   "execution_count": 17,
   "metadata": {
    "collapsed": false
   },
   "outputs": [
    {
     "name": "stdout",
     "output_type": "stream",
     "text": [
      "[('Nessa', 'n'), ('época', 'n'), (',', ','), ('Fishel', 'n'), ('teria', 'v-fin'), ('conhecido', 'v-pcp'), ('o', 'art'), ('ginecologista', 'n'), ('britânico', 'adj'), ('Robert', 'n'), ('Winston', 'n'), (',', ','), ('a', 'art'), ('quem', 'pron-indp'), ('convidou', 'v-fin'), ('para', 'prp'), ('um', 'art'), ('encontro', 'n'), ('científico', 'adj'), ('promovido', 'v-pcp'), ('por', 'prp'), ('Antinori', 'n'), ('.', '.')]\n",
      "---\n",
      "[('Nenhum', 'n'), ('filme', 'n'), ('brasileiro', 'adj'), ('foi', 'v-fin'), ('escolhido', 'v-pcp'), (',', ','), ('quebrando', 'v-ger'), ('assim', 'adv'), ('a', 'art'), ('expectativa', 'n'), ('criada', 'v-pcp'), ('em', 'prp'), ('torno', 'n'), ('de', 'prp'), ('«Alma', 'n'), ('Corsária»', 'n'), ('de', 'prp'), ('Carlos', 'n'), ('Reichenbach', 'n'), ('e', 'conj-c'), ('«Mil', 'n'), ('e', 'conj-c'), ('Uma»', 'n'), ('de', 'prp'), ('Suzana', 'n'), ('de', 'prp'), ('Moraes', 'n'), ('.', '.')]\n",
      "---\n",
      "[('Na', 'n'), ('terceira', 'adj'), ('colocação', 'n'), (',', ','), ('34', 'num'), ('pontos', 'n'), (',', ','), ('a', 'art'), ('Juventus', 'n'), ('de', 'prp'), ('Turim', 'n'), ('visita', 'n'), ('o', 'art'), ('Genoa', 'n'), (',', ','), ('22', 'num'), (',', ','), ('no', 'pron-pers'), ('limiar', 'n'), ('do', 'n'), ('rebaixamento', 'n'), ('.', '.')]\n",
      "---\n",
      "[('O', 'n'), ('projeto', 'n'), ('vem', 'v-fin'), ('sendo', 'v-ger'), ('implementado', 'v-pcp'), (',', ','), ('em', 'prp'), ('caráter', 'n'), ('experimental', 'adj'), (',', ','), ('em', 'prp'), ('três', 'num'), ('escolas', 'n'), (':', 'n'), ('Morumbi', 'n'), (',', ','), ('Visconde', 'n'), ('de', 'prp'), ('Porto', 'n'), ('Seguro', 'n'), ('(', 'n'), ('particulares', 'adj'), (')', 'n'), ('e', 'conj-c'), ('Godofredo', 'n'), ('Furtado', 'n'), ('(', 'n'), ('estadual', 'adj'), (')', 'n'), ('.', '.')]\n",
      "---\n",
      "[('O', 'n'), ('cineasta', 'n'), ('italiano', 'adj'), ('Franco', 'n'), ('Zefirelli', 'n'), ('revelou', 'v-fin'), ('que', 'conj-s'), (',', ','), ('para', 'prp'), ('iludir', 'v-inf'), ('o', 'art'), ('serviço', 'n'), ('militar', 'adj'), ('durante', 'prp'), ('o', 'art'), ('período', 'n'), ('fascista', 'adj'), (',', ','), ('se', 'conj-s'), ('tornou', 'v-fin'), ('um', 'art'), ('partisan', 'n'), ('e', 'conj-c'), ('acabou', 'v-fin'), ('matando', 'v-ger'), ('um', 'art'), ('soldado', 'n'), ('alemão', 'adj'), ('.', '.')]\n",
      "---\n",
      "[('Mas', 'n'), ('é', 'v-fin'), ('também', 'adv'), ('preciso', 'v-fin'), ('a', 'prp'), ('sociedade', 'n'), ('mobilizar-se', 'n'), ('para', 'prp'), ('sensibilizar', 'v-inf'), ('o', 'art'), ('futuro', 'n'), ('Congresso', 'n'), ('Nacional', 'n'), ('na', 'pron-pers'), ('promoção', 'n'), ('de', 'prp'), ('reformas', 'n'), ('constitucionais', 'adj'), ('indispensáveis', 'adj'), ('ao', 'prp'), ('êxito', 'n'), ('das', 'n'), ('mudanças', 'n'), ('pretendidas', 'v-pcp'), ('.', '.')]\n",
      "---\n",
      "[('Na', 'n'), ('Anhanguera', 'n'), (',', ','), ('que', 'pron-indp'), ('une', 'v-fin'), ('São', 'n'), ('Paulo', 'n'), ('a', 'prp'), ('Ribeirão', 'n'), ('Preto', 'n'), (',', ','), ('costuma', 'v-fin'), ('haver', 'v-inf'), ('neblina', 'n'), ('pesada', 'v-pcp'), ('entre', 'prp'), ('o', 'art'), ('km', 'n'), ('21', 'num'), ('e', 'conj-c'), ('o', 'art'), ('km', 'n'), ('43', 'num'), (',', ','), ('também', 'adv'), ('perto', 'adv'), ('de', 'prp'), ('Perus', 'n'), ('e', 'conj-c'), ('Cajamar', 'n'), ('.', '.')]\n",
      "---\n",
      "[('Mesmo', 'n'), ('entendendo', 'v-ger'), ('suas', 'pron-det'), ('explicações', 'n'), ('sobre', 'prp'), ('o', 'art'), ('programa', 'n'), ('de', 'prp'), ('governo', 'n'), (',', ','), ('entendo', 'v-fin'), ('que', 'conj-s'), ('ele', 'pron-pers'), ('tinha', 'v-fin'), ('que', 'conj-s'), ('ter', 'v-inf'), ('um', 'art'), ('programa', 'n'), ('de', 'prp'), ('governo', 'n'), (',', ','), ('que', 'pron-indp'), ('vai', 'v-fin'), ('dar', 'v-inf'), ('um', 'art'), ('meio', 'n'), ('de', 'prp'), ('cobrar', 'v-inf'), ('depois', 'adv'), ('.', '.')]\n",
      "---\n",
      "[('O', 'n'), ('mais', 'adv'), ('perigoso', 'adj'), ('é', 'v-fin'), ('na', 'pron-pers'), ('região', 'n'), ('da', 'n'), ('Serra', 'n'), ('das', 'n'), ('Conchas', 'n'), (',', ','), ('entre', 'prp'), ('o', 'art'), ('km', 'n'), ('129', 'num'), ('e', 'conj-c'), ('o', 'art'), ('km', 'n'), ('162', 'num'), (',', ','), ('logo', 'adv'), ('após', 'prp'), ('Tatuí', 'n'), (',', ','), ('para', 'prp'), ('quem', 'pron-indp'), ('vai', 'v-fin'), ('para', 'prp'), ('o', 'art'), ('interior', 'n'), ('.', '.')]\n",
      "---\n",
      "[('O', 'n'), ('prefeito', 'n'), ('de', 'prp'), ('Juazeiro', 'n'), (',', ','), ('Manoel', 'n'), ('Salviano', 'n'), ('(', 'n'), ('PSDB', 'n'), (')', 'n'), (',', ','), ('disse', 'v-fin'), ('que', 'conj-s'), ('qualquer', 'pron-det'), ('funcionário', 'n'), ('que', 'pron-indp'), ('tenha', 'v-fin'), ('participado', 'v-pcp'), ('da', 'n'), ('recepção', 'n'), ('«foi', 'n'), ('espontaneamente', 'adv'), (',', ','), ('sem', 'prp'), ('nenhuma', 'pron-det'), ('pressão', 'n'), ('da', 'n'), ('prefeitura»', 'n'), ('.', '.')]\n",
      "---\n"
     ]
    }
   ],
   "source": [
    "from nltk import word_tokenize\n",
    "\n",
    "for sentence in sentencas:\n",
    "    tokens = word_tokenize(sentence, language='portuguese')\n",
    "    pos = tagger2.tag(tokens)\n",
    "    print(pos)\n",
    "    print('---')"
   ]
  },
  {
   "cell_type": "code",
   "execution_count": null,
   "metadata": {
    "collapsed": true
   },
   "outputs": [],
   "source": [
    "# Tags Floresta: http://linguateca.dei.uc.pt/Floresta/BibliaFlorestal/anexo1.html (2.3)\n",
    "#\n",
    "#n\t\t\tnome, substantivo\n",
    "#prop\t\tnome próprio\n",
    "#adj\t\tadjectivo\n",
    "#n-adj\t\tflutuação entre substantivo e adjectivo\n",
    "#v-fin\t\tverbo finito\n",
    "#v-inf\t\tinfinitivo\n",
    "#v-pcp\t\tparticípio\n",
    "#v-ger\t\tgerúndio\n",
    "#art\t\tartigo\n",
    "#pron-pers\tpronome pessoal\n",
    "#pron-det\tpronome determinativo\n",
    "#pron-indp\tpronome independente (com comportamento semelhante ao nome)\n",
    "#adv\t\tadvérbio\n",
    "#num\t\tnumeral\n",
    "#prp\t\tpreposição\n",
    "#intj\t\tinterjeição\n",
    "#conj-s\t\tconjunção subordinativa\n",
    "#conj-c\t\tconjunção coordenativa"
   ]
  }
 ],
 "metadata": {
  "kernelspec": {
   "display_name": "Python 3",
   "language": "python",
   "name": "python3"
  },
  "language_info": {
   "codemirror_mode": {
    "name": "ipython",
    "version": 3
   },
   "file_extension": ".py",
   "mimetype": "text/x-python",
   "name": "python",
   "nbconvert_exporter": "python",
   "pygments_lexer": "ipython3",
   "version": "3.5.2"
  }
 },
 "nbformat": 4,
 "nbformat_minor": 2
}
