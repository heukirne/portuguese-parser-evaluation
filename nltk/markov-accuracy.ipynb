{
 "cells": [
  {
   "cell_type": "code",
   "execution_count": 1,
   "metadata": {
    "collapsed": true,
    "deletable": true,
    "editable": true
   },
   "outputs": [],
   "source": [
    "import nltk\n",
    "from nltk.corpus import floresta\n",
    "from nltk import HiddenMarkovModelTagger\n",
    "train = floresta.tagged_sents()\n",
    "port_tagger = HiddenMarkovModelTagger.train(train)"
   ]
  },
  {
   "cell_type": "code",
   "execution_count": 2,
   "metadata": {
    "collapsed": false,
    "deletable": true,
    "editable": true
   },
   "outputs": [
    {
     "data": {
      "text/plain": [
       "['Nessa época, Fishel teria conhecido o ginecologista britânico Robert Winston, a quem convidou para um encontro científico promovido por Antinori.',\n",
       " 'Nenhum filme brasileiro foi escolhido, quebrando assim a expectativa criada em torno de «Alma Corsária» de Carlos Reichenbach e «Mil e Uma» de Suzana de Moraes.',\n",
       " 'Na terceira colocação, 34 pontos, a Juventus de Turim visita o Genoa, 22, no limiar do rebaixamento.',\n",
       " 'O projeto vem sendo implementado, em caráter experimental, em três escolas: Morumbi, Visconde de Porto Seguro (particulares) e Godofredo Furtado (estadual).',\n",
       " 'O cineasta italiano Franco Zefirelli revelou que, para iludir o serviço militar durante o período fascista, se tornou um partisan e acabou matando um soldado alemão.',\n",
       " 'Mas é também preciso a sociedade mobilizar-se para sensibilizar o futuro Congresso Nacional na promoção de reformas constitucionais indispensáveis ao êxito das mudanças pretendidas.',\n",
       " 'Na Anhanguera, que une São Paulo a Ribeirão Preto, costuma haver neblina pesada entre o km 21 e o km 43, também perto de Perus e Cajamar.',\n",
       " 'Mesmo entendendo suas explicações sobre o programa de governo, entendo que ele tinha que ter um programa de governo, que vai dar um meio de cobrar depois.',\n",
       " 'O mais perigoso é na região da Serra das Conchas, entre o km 129 e o km 162, logo após Tatuí, para quem vai para o interior.',\n",
       " 'O prefeito de Juazeiro, Manoel Salviano (PSDB), disse que qualquer funcionário que tenha participado da recepção «foi espontaneamente, sem nenhuma pressão da prefeitura».']"
      ]
     },
     "execution_count": 2,
     "metadata": {},
     "output_type": "execute_result"
    }
   ],
   "source": [
    "import re\n",
    "\n",
    "sentencas = []\n",
    "textRegex = re.compile(r'text=\\\"([^\\\"]+)\\\"')\n",
    "\n",
    "with open(\"../corpus/sentençasSelecionadas.txt\", \"r\", encoding = \"utf8\") as file:\n",
    "    for line in file:\n",
    "        \n",
    "        if line.find(\"<s id\") >= 0:\n",
    "            sentencas.append(textRegex.findall(line)[0])\n",
    "            \n",
    "sentencas"
   ]
  },
  {
   "cell_type": "code",
   "execution_count": 3,
   "metadata": {
    "collapsed": false,
    "deletable": true,
    "editable": true
   },
   "outputs": [
    {
     "name": "stdout",
     "output_type": "stream",
     "text": [
      "[('Nessa', '>N+art'), ('época', 'H+n'), (',', ','), ('Fishel', 'SUBJ+prop'), ('teria', 'AUX+v-fin'), ('conhecido', 'MV+v-pcp'), ('o', '>N+art'), ('ginecologista', 'H+n'), ('britânico', 'N<+adj'), ('Robert', '.'), ('Winston', '»'), (',', ','), ('a', 'H+prp'), ('quem', 'P<+pron-indp'), ('convidou', 'P+v-fin'), ('para', 'H+prp'), ('um', '>N+art'), ('encontro', 'H+n'), ('científico', 'N<+adj'), ('promovido', 'P+v-pcp'), ('por', 'H+prp'), ('Antinori', 'P<+prop'), ('.', '.')]\n",
      "---\n",
      "[('Nenhum', '>N+pron-det'), ('filme', 'H+n'), ('brasileiro', 'N<+adj'), ('foi', 'AUX+v-fin'), ('escolhido', 'MV+v-pcp'), (',', ','), ('quebrando', 'P+v-ger'), ('assim', 'ADVL+adv'), ('a', '>N+art'), ('expectativa', 'H+n'), ('criada', 'P+v-pcp'), ('em', 'H+prp'), ('torno', 'P<+n'), ('de', 'H+prp'), ('«Alma', '>N+art'), ('Corsária»', 'H+n'), ('de', 'H+prp'), ('Carlos', '>N+art'), ('Reichenbach', 'H+prop'), ('e', 'CO+conj-c'), ('«Mil', 'CJT+n'), ('e', 'CO+conj-c'), ('Uma»', 'CJT+n'), ('de', 'H+prp'), ('Suzana', 'P<+n'), ('de', 'H+prp'), ('Moraes', 'P<+n'), ('.', '.')]\n",
      "---\n",
      "[('Na', '>N+art'), ('terceira', '>N+adj'), ('colocação', 'H+n'), (',', ','), ('34', '>N+num'), ('pontos', 'H+n'), (',', ','), ('a', '>N+art'), ('Juventus', 'H+prop'), ('de', 'H+prp'), ('Turim', 'P<+prop'), ('visita', 'P+v-fin'), ('o', '>N+art'), ('Genoa', 'H+prop'), (',', ','), ('22', 'N<PRED+num'), (',', ','), ('no', 'APP+prop'), ('limiar', '}'), ('do', '.'), ('rebaixamento', '»'), ('.', '.')]\n",
      "---\n",
      "[('O', '>N+art'), ('projeto', 'H+n'), ('vem', 'AUX+v-fin'), ('sendo', 'AUX+v-ger'), ('implementado', 'MV+v-pcp'), (',', ','), ('em', 'H+prp'), ('caráter', 'H+n'), ('experimental', 'N<+adj'), (',', ','), ('em', 'H+prp'), ('três', '>N+num'), ('escolas', 'H+n'), (':', 'N<+adj'), ('Morumbi', 'N<+prop'), (',', ','), ('Visconde', 'P+v-pcp'), ('de', 'H+prp'), ('Porto', 'H+prop'), ('Seguro', '»'), ('(', '{'), ('particulares', 'N<PRED+n'), (')', '}'), ('e', 'CO+conj-c'), ('Godofredo', 'CJT+n'), ('Furtado', '.'), ('(', '»'), ('estadual', '.'), (')', '»'), ('.', '.')]\n",
      "---\n",
      "[('O', '>N+art'), ('cineasta', 'H+n'), ('italiano', 'N<+adj'), ('Franco', '.'), ('Zefirelli', '»'), ('revelou', 'P+v-fin'), ('que', 'SUB+conj-s'), (',', ','), ('para', 'H+prp'), ('iludir', 'P+v-inf'), ('o', '>N+art'), ('serviço', 'H+n'), ('militar', 'N<+adj'), ('durante', 'H+prp'), ('o', '>N+art'), ('período', 'H+n'), ('fascista', 'N<+adj'), (',', ','), ('se', 'SUBJ+pron-pers'), ('tornou', 'P+v-fin'), ('um', '>N+art'), ('partisan', 'H+n'), ('e', 'CO+conj-c'), ('acabou', 'AUX+v-fin'), ('matando', 'MV+v-ger'), ('um', '>N+art'), ('soldado', 'H+n'), ('alemão', 'N<+adj'), ('.', '.')]\n",
      "---\n",
      "[('Mas', 'CO+conj-c'), ('é', 'P+v-fin'), ('também', 'ADVL+adv'), ('preciso', 'P+v-fin'), ('a', '>N+art'), ('sociedade', 'H+n'), ('mobilizar-se', 'N<+adj'), ('para', 'H+prp'), ('sensibilizar', 'P+v-inf'), ('o', '>N+art'), ('futuro', '>N+adj'), ('Congresso', 'H+n'), ('Nacional', 'H+prp'), ('na', '>N+art'), ('promoção', 'H+n'), ('de', 'H+prp'), ('reformas', 'H+n'), ('constitucionais', 'N<+adj'), ('indispensáveis', 'H+adj'), ('ao', 'H+prp'), ('êxito', '>N+art'), ('das', '>N+adj'), ('mudanças', 'H+n'), ('pretendidas', 'N<+v-pcp'), ('.', '.')]\n",
      "---\n",
      "[('Na', '«'), ('Anhanguera', 'H+prop'), (',', ','), ('que', 'SUBJ+pron-indp'), ('une', 'ACC+pron-pers'), ('São', 'P+v-fin'), ('Paulo', 'SUB+conj-s'), ('a', '>N+art'), ('Ribeirão', 'H+n'), ('Preto', 'N<+adj'), (',', ','), ('costuma', 'AUX+v-fin'), ('haver', 'MV+v-inf'), ('neblina', '>A+adv'), ('pesada', 'H+adj'), ('entre', 'H+prp'), ('o', '>N+art'), ('km', 'H+n'), ('21', 'N<+num'), ('e', 'CO+conj-c'), ('o', '>N+art'), ('km', 'H+n'), ('43', 'N<+num'), (',', ','), ('também', '>A+adv'), ('perto', 'H+adv'), ('de', 'H+prp'), ('Perus', 'CJT+n'), ('e', 'CO+conj-c'), ('Cajamar', 'CJT+prop'), ('.', '.')]\n",
      "---\n",
      "[('Mesmo', '>A+adv'), ('entendendo', 'H+adv'), ('suas', '>N+pron-det'), ('explicações', 'H+n'), ('sobre', 'H+prp'), ('o', '>N+art'), ('programa', 'H+n'), ('de', 'H+prp'), ('governo', 'P<+n'), (',', ','), ('entendo', 'P+v-fin'), ('que', 'SUB+conj-s'), ('ele', 'SUBJ+pron-pers'), ('tinha', 'AUX+v-fin'), ('que', 'PRT-AUX<+conj-s'), ('ter', 'MV+v-inf'), ('um', '>N+art'), ('programa', 'H+n'), ('de', 'H+prp'), ('governo', 'P<+n'), (',', ','), ('que', 'SUBJ+pron-indp'), ('vai', 'AUX+v-fin'), ('dar', 'MV+v-inf'), ('um', '>N+art'), ('meio', 'H+n'), ('de', 'H+prp'), ('cobrar', 'P+v-inf'), ('depois', 'ADVL+adv'), ('.', '.')]\n",
      "---\n",
      "[('O', '>N+art'), ('mais', '>A+adv'), ('perigoso', 'H+adj'), ('é', 'P+v-fin'), ('na', '>N+art'), ('região', 'H+n'), ('da', 'H+prp'), ('Serra', 'P<+prop'), ('das', '.'), ('Conchas', '»'), (',', ','), ('entre', 'H+prp'), ('o', '>N+art'), ('km', 'H+n'), ('129', 'N<+adj'), ('e', 'CO+conj-c'), ('o', '>N+art'), ('km', 'H+n'), ('162', 'N<+num'), (',', ','), ('logo', 'ADVL+adv'), ('após', 'H+prp'), ('Tatuí', 'P<+prop'), (',', ','), ('para', 'H+prp'), ('quem', 'P<+pron-indp'), ('vai', 'P+v-fin'), ('para', 'H+prp'), ('o', '>N+art'), ('interior', 'H+n'), ('.', '.')]\n",
      "---\n",
      "[('O', '>N+art'), ('prefeito', 'H+n'), ('de', 'H+prp'), ('Juazeiro', 'P<+prop'), (',', ','), ('Manoel', '>N+art'), ('Salviano', 'H+prop'), ('(', '{'), ('PSDB', 'N<PRED+prop'), (')', '}'), (',', ','), ('disse', 'P+v-fin'), ('que', 'SUB+conj-s'), ('qualquer', '>N+pron-det'), ('funcionário', 'H+n'), ('que', 'SUBJ+pron-indp'), ('tenha', 'AUX+v-fin'), ('participado', 'MV+v-pcp'), ('da', '>N+num'), ('recepção', 'H+n'), ('«foi', '.'), ('espontaneamente', '»'), (',', ','), ('sem', 'H+prp'), ('nenhuma', '>N+pron-det'), ('pressão', 'H+n'), ('da', '.'), ('prefeitura»', '»'), ('.', '.')]\n",
      "---\n"
     ]
    }
   ],
   "source": [
    "from nltk import word_tokenize\n",
    "\n",
    "for sentence in sentencas:\n",
    "    tokens = word_tokenize(sentence, language='portuguese')\n",
    "    pos = port_tagger.tag(tokens)\n",
    "    print(pos)\n",
    "    print('---')"
   ]
  },
  {
   "cell_type": "code",
   "execution_count": 4,
   "metadata": {
    "collapsed": true,
    "deletable": true,
    "editable": true
   },
   "outputs": [],
   "source": [
    "# Tags Floresta: http://linguateca.dei.uc.pt/Floresta/BibliaFlorestal/anexo1.html (2.3)\n",
    "#\n",
    "#n\t\t\tnome, substantivo\n",
    "#prop\t\tnome próprio\n",
    "#adj\t\tadjectivo\n",
    "#n-adj\t\tflutuação entre substantivo e adjectivo\n",
    "#v-fin\t\tverbo finito\n",
    "#v-inf\t\tinfinitivo\n",
    "#v-pcp\t\tparticípio\n",
    "#v-ger\t\tgerúndio\n",
    "#art\t\tartigo\n",
    "#pron-pers\tpronome pessoal\n",
    "#pron-det\tpronome determinativo\n",
    "#pron-indp\tpronome independente (com comportamento semelhante ao nome)\n",
    "#adv\t\tadvérbio\n",
    "#num\t\tnumeral\n",
    "#prp\t\tpreposição\n",
    "#intj\t\tinterjeição\n",
    "#conj-s\t\tconjunção subordinativa\n",
    "#conj-c\t\tconjunção coordenativa"
   ]
  },
  {
   "cell_type": "code",
   "execution_count": null,
   "metadata": {
    "collapsed": true
   },
   "outputs": [],
   "source": []
  }
 ],
 "metadata": {
  "kernelspec": {
   "display_name": "Python 3",
   "language": "python",
   "name": "python3"
  },
  "language_info": {
   "codemirror_mode": {
    "name": "ipython",
    "version": 3
   },
   "file_extension": ".py",
   "mimetype": "text/x-python",
   "name": "python",
   "nbconvert_exporter": "python",
   "pygments_lexer": "ipython3",
   "version": "3.5.2"
  }
 },
 "nbformat": 4,
 "nbformat_minor": 2
}
