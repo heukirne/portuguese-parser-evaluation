{
 "cells": [
  {
   "cell_type": "code",
   "execution_count": 1,
   "metadata": {},
   "outputs": [
    {
     "name": "stdout",
     "output_type": "stream",
     "text": [
      "['PRP', 'DET', 'N', 'PROP', 'V', 'V', 'ART', 'N', 'ADJ', 'PROP', 'PRP', 'INDP', 'V', 'PRP', 'ART', 'N', 'ADJ', 'V', 'PRP', 'PROP', 'PROP', 'NUM', 'V', 'N', 'PRP', 'ART', 'PRP', 'ART', 'N', 'PRP', 'PROP', 'KC', 'PRP', 'ART', 'PROP', 'PRP', 'ART', 'PROP', 'PROP', 'PRP', 'ART', 'ADJ', 'N', 'NUM', 'N', 'ART', 'PROP', 'PRP', 'PROP', 'V', 'ART', 'PROP', 'NUM', 'PRP', 'ART', 'N', 'PRP', 'ART', 'N', 'ART', 'N', 'V', 'V', 'V', 'PRP', 'N', 'ADJ', 'PRP', 'NUM', 'N', 'PROP', 'PROP', 'N', 'KC', 'PROP', 'ADJ', 'ART', 'N', 'ADJ', 'PROP', 'V', 'KS', 'PRP', 'V', 'ART', 'N', 'PRP', 'ART', 'N', 'ADJ', 'PERS', 'V', 'ART', 'N', 'KC', 'V', 'V', 'ART', 'N', 'ADJ', 'KC', 'V', 'ADV', 'ADJ', 'PRP', 'N', 'V', 'PERS', 'PRP', 'V', 'ART', 'ADJ', 'PROP', 'PRP', 'ART', 'N', 'PRP', 'N', 'ADJ', 'ADJ', 'PRP', 'ART', 'N', 'PRP', 'ART', 'N', 'V', 'PRP', 'ART', 'PROP', 'INDP', 'V', 'PROP', 'PRP', 'PROP', 'V', 'V', 'N', 'V', 'PRP', 'ART', 'N', 'NUM', 'KC', 'ART', 'N', 'NUM', 'ADV', 'PRP', 'N', 'KC', 'PROP', 'ADV', 'V', 'DET', 'N', 'PRP', 'ART', 'N', 'PRP', 'N', 'V', 'KS', 'PERS', 'V', 'KS', 'V', 'ART', 'N', 'PRP', 'N', 'INDP', 'V', 'V', 'ART', 'N', 'PRP', 'V', 'ADV', 'ART', 'ADV', 'ADJ', 'V', 'PRP', 'ART', 'N', 'PRP', 'ART', 'PROP', 'PRP', 'ART', 'N', 'NUM', 'KC', 'ART', 'N', 'NUM', 'ADV', 'PRP', 'PROP', 'PRP', 'INDP', 'V', 'PRP', 'ART', 'N', 'ART', 'N', 'PRP', 'PROP', 'PROP', 'PROP', 'V', 'KS', 'DET', 'N', 'INDP', 'V', 'V', 'PRP', 'ART', 'N', 'V', 'ADV', 'PRP', 'DET', 'N', 'PRP', 'ART', 'N'] \n",
      "\n",
      "['S', 'D', 'N', 'F', 'N', 'V', 'V', 'D', 'N', 'A', 'N', 'F', 'D', 'P', 'V', 'S', 'D', 'N', 'A', 'V', 'S', 'N', 'V', 'N', 'F', 'Z', 'F', 'V', 'N', 'S', 'D', 'N', 'C', 'S', 'D', 'N', 'F', 'N', 'S', 'D', 'N', 'C', 'N', 'F', 'S', 'D', 'A', 'N', 'F', 'Z', 'N', 'F', 'D', 'N', 'N', 'D', 'N', 'F', 'Z', 'F', 'S', 'D', 'N', 'S', 'D', 'N', 'D', 'N', 'V', 'V', 'V', 'F', 'S', 'N', 'A', 'F', 'S', 'Z', 'N', 'F', 'N', 'F', 'N', 'F', 'N', 'F', 'C', 'N', 'F', 'A', 'F', 'D', 'N', 'A', 'N', 'V', 'C', 'F', 'S', 'V', 'D', 'N', 'A', 'S', 'D', 'N', 'A', 'F', 'P', 'V', 'D', 'N', 'C', 'V', 'V', 'D', 'N', 'A', 'C', 'V', 'R', 'A', 'D', 'N', 'V', 'P', 'S', 'V', 'D', 'N', 'N', 'S', 'D', 'N', 'S', 'N', 'A', 'A', 'S', 'D', 'N', 'S', 'D', 'N', 'V', 'S', 'D', 'N', 'F', 'P', 'V', 'N', 'F', 'V', 'V', 'N', 'V', 'S', 'D', 'N', 'Z', 'C', 'D', 'N', 'Z', 'F', 'R', 'S', 'N', 'C', 'N', 'R', 'V', 'D', 'N', 'S', 'D', 'N', 'S', 'N', 'F', 'V', 'C', 'P', 'V', 'C', 'V', 'D', 'N', 'S', 'N', 'F', 'P', 'V', 'V', 'D', 'N', 'S', 'V', 'R', 'D', 'R', 'A', 'V', 'S', 'D', 'N', 'S', 'D', 'N', 'F', 'S', 'D', 'N', 'Z', 'C', 'D', 'N', 'Z', 'F', 'R', 'S', 'N', 'F', 'S', 'P', 'V', 'S', 'D', 'N', 'D', 'N', 'S', 'N', 'F', 'N', 'F', 'N', 'F', 'F', 'V', 'C', 'D', 'N', 'P', 'V', 'V', 'S', 'D', 'N', 'F', 'V', 'R', 'F', 'S', 'D', 'N', 'S', 'D', 'N', 'F']\n"
     ]
    }
   ],
   "source": [
    "import collections\n",
    "\n",
    "arrayBosque = []\n",
    "arrayFree = []\n",
    "translations = {\"SP\": \"PRP\", \"VM\": \"V\", \"DET\": \"D\", \"V\": \"v\", \"V\": \"v\"}\n",
    "\n",
    "with open(\"bosque.txt\", \"r\", encoding = \"ISO-8859-1\") as bosque:\n",
    "    \n",
    "    for line in bosque:\n",
    "       \n",
    "        if line.find(\"\\t\") >= 0:           \n",
    "            arrayAux = line.split(\"\\t\")[1].split(\" \")\n",
    "            arrayBosque.append(arrayAux[2])\n",
    "    \n",
    "    print(arrayBosque, \"\\n\")\n",
    "\n",
    "with open(\"sentences.tag\", \"r\", encoding = \"UTF-8\") as sentences:\n",
    "    \n",
    "    for line in sentences:\n",
    "        \n",
    "        if line[0] == \".\" or line[0] == \"\\n\":\n",
    "            continue\n",
    "        \n",
    "        arrayAux = line.split(\" \")\n",
    "        arrayFree.append(arrayAux[2][0:2])\n",
    "        \n",
    "    print(arrayFree)\n",
    "        "
   ]
  },
  {
   "cell_type": "code",
   "execution_count": 6,
   "metadata": {},
   "outputs": [
    {
     "data": {
      "text/plain": [
       "0.5"
      ]
     },
     "execution_count": 6,
     "metadata": {},
     "output_type": "execute_result"
    }
   ],
   "source": [
    "from sklearn.metrics import accuracy_score\n",
    "\n",
    "list1 = ['S',0,0,'F',1,'A',1,0]\n",
    "list2 = ['S',0,3,'H',0,1,1,0]\n",
    "\n",
    "accuracy_score(list1, list2)"
   ]
  },
  {
   "cell_type": "code",
   "execution_count": null,
   "metadata": {
    "collapsed": true
   },
   "outputs": [],
   "source": []
  }
 ],
 "metadata": {
  "kernelspec": {
   "display_name": "Python 3",
   "language": "python",
   "name": "python3"
  },
  "language_info": {
   "codemirror_mode": {
    "name": "ipython",
    "version": 3
   },
   "file_extension": ".py",
   "mimetype": "text/x-python",
   "name": "python",
   "nbconvert_exporter": "python",
   "pygments_lexer": "ipython3",
   "version": "3.5.3"
  }
 },
 "nbformat": 4,
 "nbformat_minor": 2
}
