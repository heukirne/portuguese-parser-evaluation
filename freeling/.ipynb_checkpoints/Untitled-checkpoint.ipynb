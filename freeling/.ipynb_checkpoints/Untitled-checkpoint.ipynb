{
 "cells": [
  {
   "cell_type": "code",
   "execution_count": 86,
   "metadata": {},
   "outputs": [
    {
     "name": "stdout",
     "output_type": "stream",
     "text": [
      "['PRP', 'DET', 'N', 'PROP', 'V', 'V', 'ART', 'N', 'ADJ', 'PROP', 'PRP', 'INDP', 'V', 'PRP', 'ART', 'N', 'ADJ', 'V', 'PRP', 'PROP', 'PROP', 'NUM', 'V', 'N', 'PRP', 'ART', 'PRP', 'ART', 'N', 'PRP', 'PROP', 'KC', 'PRP', 'ART', 'PROP', 'PRP', 'ART', 'PROP', 'PROP', 'PRP', 'ART', 'ADJ', 'N', 'NUM', 'N', 'ART', 'PROP', 'PRP', 'PROP', 'V', 'ART', 'PROP', 'NUM', 'PRP', 'ART', 'N', 'PRP', 'ART', 'N', 'ART', 'N', 'V', 'V', 'V', 'PRP', 'N', 'ADJ', 'PRP', 'NUM', 'N', 'PROP', 'PROP', 'N', 'KC', 'PROP', 'ADJ', 'ART', 'N', 'ADJ', 'PROP', 'V', 'KS', 'PRP', 'V', 'ART', 'N', 'PRP', 'ART', 'N', 'ADJ', 'PERS', 'V', 'ART', 'N', 'KC', 'V', 'V', 'ART', 'N', 'ADJ', 'KC', 'V', 'ADV', 'ADJ', 'PRP', 'N', 'V', 'PERS', 'PRP', 'V', 'ART', 'ADJ', 'PROP', 'PRP', 'ART', 'N', 'PRP', 'N', 'ADJ', 'ADJ', 'PRP', 'ART', 'N', 'PRP', 'ART', 'N', 'V', 'PRP', 'ART', 'PROP', 'INDP', 'V', 'PROP', 'PRP', 'PROP', 'V', 'V', 'N', 'V', 'PRP', 'ART', 'N', 'NUM', 'KC', 'ART', 'N', 'NUM', 'ADV', 'PRP', 'N', 'KC', 'PROP', 'ADV', 'V', 'DET', 'N', 'PRP', 'ART', 'N', 'PRP', 'N', 'V', 'KS', 'PERS', 'V', 'KS', 'V', 'ART', 'N', 'PRP', 'N', 'INDP', 'V', 'V', 'ART', 'N', 'PRP', 'V', 'ADV', 'ART', 'ADV', 'ADJ', 'V', 'PRP', 'ART', 'N', 'PRP', 'ART', 'PROP', 'PRP', 'ART', 'N', 'NUM', 'KC', 'ART', 'N', 'NUM', 'ADV', 'PRP', 'PROP', 'PRP', 'INDP', 'V', 'PRP', 'ART', 'N', 'ART', 'N', 'PRP', 'PROP', 'PROP', 'PROP', 'V', 'KS', 'DET', 'N', 'INDP', 'V', 'V', 'PRP', 'ART', 'N', 'V', 'ADV', 'PRP', 'DET', 'N', 'PRP', 'ART', 'N'] \n",
      "\n",
      "['SP', 'DD', 'NC', 'Fc', 'NP', 'VM', 'VM', 'DA', 'NC', 'AQ', 'NP', 'Fc', 'DA', 'PT', 'VM', 'SP', 'DI', 'NC', 'AQ', 'VM', 'SP', 'NP', 'VM', 'NP', 'Fc', 'Z', 'Fc', 'VM', 'NC', 'SP', 'DA', 'NP', 'CC', 'SP', 'DA', 'NP', 'Fp', 'NP', 'SP', 'DA', 'NP', 'CC', 'NP', 'Fp', 'SP', 'DA', 'AO', 'NC', 'Fc', 'Z', 'NC', 'Fc', 'DA', 'NP', 'NC', 'DA', 'NP', 'Fc', 'Z', 'Fc', 'SP', 'DA', 'NC', 'SP', 'DA', 'NC', 'DA', 'NC', 'VM', 'VM', 'VM', 'Fc', 'SP', 'NC', 'AQ', 'Fc', 'SP', 'Z', 'NC', 'Fd', 'NP', 'Fc', 'NP', 'Fp', 'NC', 'Fp', 'CC', 'NP', 'Fp', 'AQ', 'Fp', 'DA', 'NC', 'AQ', 'NP', 'VM', 'CS', 'Fc', 'SP', 'VM', 'DA', 'NC', 'AQ', 'SP', 'DA', 'NC', 'AQ', 'Fc', 'PP', 'VM', 'DI', 'NC', 'CC', 'VM', 'VM', 'DI', 'NC', 'AQ', 'CC', 'VM', 'RG', 'AQ', 'DA', 'NC', 'VM', 'PP', 'SP', 'VM', 'DA', 'NC', 'NP', 'SP', 'DA', 'NC', 'SP', 'NC', 'AQ', 'AQ', 'SP', 'DA', 'NC', 'SP', 'DA', 'NC', 'VM', 'SP', 'DA', 'NP', 'Fc', 'PR', 'VM', 'NP', 'Fc', 'VM', 'VM', 'NC', 'VM', 'SP', 'DA', 'NC', 'Z', 'CC', 'DA', 'NC', 'Z', 'Fc', 'RG', 'SP', 'NP', 'CC', 'NP', 'RG', 'VM', 'DP', 'NC', 'SP', 'DA', 'NC', 'SP', 'NC', 'Fc', 'VM', 'CS', 'PP', 'VM', 'CS', 'VM', 'DI', 'NC', 'SP', 'NC', 'Fc', 'PR', 'VM', 'VM', 'DI', 'NC', 'SP', 'VM', 'RG', 'DA', 'RG', 'AQ', 'VM', 'SP', 'DA', 'NC', 'SP', 'DA', 'NP', 'Fc', 'SP', 'DA', 'NC', 'Z', 'CC', 'DA', 'NC', 'Z', 'Fc', 'RG', 'SP', 'NP', 'Fc', 'SP', 'PR', 'VM', 'SP', 'DA', 'NC', 'DA', 'NC', 'SP', 'NP', 'Fc', 'NP', 'Fp', 'NP', 'Fp', 'Fc', 'VM', 'CS', 'DI', 'NC', 'PR', 'VM', 'VM', 'SP', 'DA', 'NC', 'Fr', 'VM', 'RG', 'Fc', 'SP', 'DI', 'NC', 'SP', 'DA', 'NC', 'Fr']\n"
     ]
    }
   ],
   "source": [
    "import collections\n",
    "\n",
    "arrayBosque = []\n",
    "arrayFree = []\n",
    "translations = {\"S\": \"PRP\", \"V\": \"v\"}\n",
    "\n",
    "with open(\"bosque.txt\", \"r\", encoding = \"ISO-8859-1\") as bosque:\n",
    "    \n",
    "    for line in bosque:\n",
    "       \n",
    "        if line.find(\"\\t\") >= 0:           \n",
    "            arrayAux = line.split(\"\\t\")[1].split(\" \")\n",
    "            arrayBosque.append(arrayAux[2])\n",
    "    \n",
    "    print(arrayBosque, \"\\n\")\n",
    "\n",
    "with open(\"sentences.tag\", \"r\", encoding = \"UTF-8\") as sentences:\n",
    "    \n",
    "    for line in sentences:\n",
    "        \n",
    "        if line[0] == \".\" or line[0] == \"\\n\":\n",
    "            continue\n",
    "        \n",
    "        arrayAux = line.split(\" \")\n",
    "        arrayFree.append(arrayAux[2][0])\n",
    "        \n",
    "    print(arrayFree)\n",
    "        "
   ]
  },
  {
   "cell_type": "code",
   "execution_count": 87,
   "metadata": {},
   "outputs": [
    {
     "ename": "ImportError",
     "evalue": "No module named 'sklearn'",
     "output_type": "error",
     "traceback": [
      "\u001b[0;31m---------------------------------------------------------------------------\u001b[0m",
      "\u001b[0;31mImportError\u001b[0m                               Traceback (most recent call last)",
      "\u001b[0;32m<ipython-input-87-b5a39f7b4a36>\u001b[0m in \u001b[0;36m<module>\u001b[0;34m()\u001b[0m\n\u001b[0;32m----> 1\u001b[0;31m \u001b[0;32mfrom\u001b[0m \u001b[0msklearn\u001b[0m\u001b[0;34m.\u001b[0m\u001b[0mmetrics\u001b[0m \u001b[0;32mimport\u001b[0m \u001b[0maccuracy_score\u001b[0m\u001b[0;34m\u001b[0m\u001b[0m\n\u001b[0m",
      "\u001b[0;31mImportError\u001b[0m: No module named 'sklearn'"
     ]
    }
   ],
   "source": [
    "from sklearn.metrics import accuracy_score"
   ]
  },
  {
   "cell_type": "code",
   "execution_count": null,
   "metadata": {
    "collapsed": true
   },
   "outputs": [],
   "source": []
  }
 ],
 "metadata": {
  "kernelspec": {
   "display_name": "Python 3",
   "language": "python",
   "name": "python3"
  },
  "language_info": {
   "codemirror_mode": {
    "name": "ipython",
    "version": 3
   },
   "file_extension": ".py",
   "mimetype": "text/x-python",
   "name": "python",
   "nbconvert_exporter": "python",
   "pygments_lexer": "ipython3",
   "version": "3.5.3"
  }
 },
 "nbformat": 4,
 "nbformat_minor": 2
}
