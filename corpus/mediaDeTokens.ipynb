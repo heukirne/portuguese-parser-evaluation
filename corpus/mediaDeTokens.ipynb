{
 "cells": [
  {
   "cell_type": "code",
   "execution_count": 4,
   "metadata": {},
   "outputs": [
    {
     "name": "stdout",
     "output_type": "stream",
     "text": [
      "Número de tokens: 81916\n",
      "Número de sentenças: 4213\n",
      "Média de tokens por senteça: 19.443626869214338\n"
     ]
    }
   ],
   "source": [
    "cont_sent = 0\n",
    "cont_token = 0\n",
    "\n",
    "with open(\"Bosque_CF_7.4_cgd.txt\", \"r\", encoding = \"ISO-8859-1\") as file:\n",
    "    for line in file:\n",
    "        columns = line.split(\"\\t\")\n",
    "\n",
    "        if line.find(\"ref=\\\"\") >= 0:\n",
    "            cont_sent += 1\n",
    "        if columns[0].find(\"$\") >= 0:\n",
    "            cont_token += 1\n",
    "        if len(columns) == 2:\n",
    "            cont_token += 1\n",
    "print(\"Número de tokens: \" + str(cont_token))\n",
    "print(\"Número de sentenças: \" + str(cont_sent))\n",
    "print(\"Média de tokens por senteça: \" + str(cont_token / cont_sent))"
   ]
  },
  {
   "cell_type": "code",
   "execution_count": null,
   "metadata": {
    "collapsed": true
   },
   "outputs": [],
   "source": []
  }
 ],
 "metadata": {
  "kernelspec": {
   "display_name": "Python 3",
   "language": "python",
   "name": "python3"
  },
  "language_info": {
   "codemirror_mode": {
    "name": "ipython",
    "version": 3
   },
   "file_extension": ".py",
   "mimetype": "text/x-python",
   "name": "python",
   "nbconvert_exporter": "python",
   "pygments_lexer": "ipython3",
   "version": "3.5.3"
  }
 },
 "nbformat": 4,
 "nbformat_minor": 2
}
