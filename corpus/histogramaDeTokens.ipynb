{
 "cells": [
  {
   "cell_type": "code",
   "execution_count": 1,
   "metadata": {},
   "outputs": [
    {
     "name": "stdout",
     "output_type": "stream",
     "text": [
      "Número de tokens: 80163\n",
      "Número de sentenças: 4213\n",
      "Média de tokens por senteça: 19.03\n"
     ]
    },
    {
     "data": {
      "image/png": "[encoded data removed]",
      "text/plain": [
       "<matplotlib.figure.Figure at 0x7f214e14ccc0>"
      ]
     },
     "metadata": {},
     "output_type": "display_data"
    }
   ],
   "source": [
    "%matplotlib inline\n",
    "\n",
    "import numpy as np\n",
    "import matplotlib.mlab as mlab\n",
    "import matplotlib.pyplot as plt\n",
    "\n",
    "a = []\n",
    "cont = -1\n",
    "cont_sent = 0\n",
    "cont_token = 0\n",
    "\n",
    "with open(\"Bosque_CF_7.4_cgd.txt\", \"r\", encoding = \"ISO-8859-1\") as file:\n",
    "    \n",
    "    for line in file:\n",
    "        \n",
    "        if line.find(\"ref=\\\"\") >= 0:\n",
    "            cont = 0\n",
    "            cont_sent += 1\n",
    "        \n",
    "        elif line.find(\"</s>\") >= 0:   \n",
    "            a.append(cont)\n",
    "            cont = -1\n",
    "        \n",
    "        elif cont >= 0:\n",
    "            cont += 1\n",
    "            cont_token += 1\n",
    "\n",
    "\n",
    "print(\"Número de tokens: \" + str(cont_token))\n",
    "print(\"Número de sentenças: \" + str(cont_sent))\n",
    "print(\"Média de tokens por senteça: {:.2f}\".format(cont_token / cont_sent))\n",
    "            \n",
    "n, bins, patches = plt.hist(a, 104, facecolor='red', alpha=0.75)\n",
    "\n",
    "plt.xlabel('Número de tokens')\n",
    "plt.ylabel('Número de sentenças')\n",
    "plt.title(r\"Frequência de tokens por sentença\")\n",
    "plt.axis([0, 120, 0, 180])\n",
    "plt.grid(True)\n",
    "\n",
    "plt.show()"
   ]
  },
  {
   "cell_type": "code",
   "execution_count": null,
   "metadata": {
    "collapsed": true
   },
   "outputs": [],
   "source": []
  }
 ],
 "metadata": {
  "kernelspec": {
   "display_name": "Python 3",
   "language": "python",
   "name": "python3"
  },
  "language_info": {
   "codemirror_mode": {
    "name": "ipython",
    "version": 3
   },
   "file_extension": ".py",
   "mimetype": "text/x-python",
   "name": "python",
   "nbconvert_exporter": "python",
   "pygments_lexer": "ipython3",
   "version": "3.5.3"
  }
 },
 "nbformat": 4,
 "nbformat_minor": 2
}
