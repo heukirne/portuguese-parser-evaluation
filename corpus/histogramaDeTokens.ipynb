{
 "cells": [
  {
   "cell_type": "code",
   "execution_count": 6,
   "metadata": {},
   "outputs": [
    {
     "name": "stdout",
     "output_type": "stream",
     "text": [
      "Número de tokens: 80159\n",
      "Número de sentenças: 4212\n",
      "Média de tokens por senteça: 19.03\n"
     ]
    },
    {
     "data": {
      "image/png": "[encoded data removed]",
      "text/plain": [
       "<matplotlib.figure.Figure at 0x7fe5efcc8e48>"
      ]
     },
     "metadata": {},
     "output_type": "display_data"
    }
   ],
   "source": [
    "%matplotlib inline\n",
    "\n",
    "import numpy as np\n",
    "import matplotlib.mlab as mlab\n",
    "import matplotlib.pyplot as plt\n",
    "\n",
    "setencas = {}\n",
    "a = []\n",
    "cont = -1\n",
    "cont_sent = 0\n",
    "cont_token = 0\n",
    "cont_bar = 0\n",
    "\n",
    "with open(\"Bosque_CF_7.4_cgd.txt\", \"r\", encoding = \"ISO-8859-1\") as file:\n",
    "    \n",
    "    for line in file:\n",
    "        \n",
    "        if line.find(\"ref=\\\"\") >= 0:\n",
    "            frase = line\n",
    "            cont = 0\n",
    "            cont_sent += 1\n",
    "        \n",
    "        elif line.find(\"</s>\") >= 0:   \n",
    "            if not cont in a:\n",
    "                cont_bar += 1\n",
    "            \n",
    "            if cont > 22 and cont < 33 and cont != 24:\n",
    "                setencas[cont] = frase\n",
    "            \n",
    "            if cont == 24 and cont_sent < 1000:\n",
    "                setencas[cont] = frase\n",
    "            \n",
    "            a.append(cont)    \n",
    "            cont = -1\n",
    "        \n",
    "        elif cont >= 0:\n",
    "            cont += 1\n",
    "            cont_token += 1\n",
    "\n",
    "\n",
    "print(\"Número de tokens: \" + str(cont_token))\n",
    "print(\"Número de sentenças: \" + str(cont_sent))\n",
    "print(\"Média de tokens por senteça: {:.2f}\".format(cont_token / cont_sent))\n",
    "            \n",
    "n, bins, patches = plt.hist(a, 104, facecolor='red', alpha=0.75)\n",
    "\n",
    "plt.xlabel('Número de tokens')\n",
    "plt.ylabel('Número de sentenças')\n",
    "plt.title(r\"Frequência de tokens por sentença\")\n",
    "plt.axis([0, 120, 0, 180])\n",
    "plt.grid(True)\n",
    "\n",
    "plt.show()"
   ]
  },
  {
   "cell_type": "code",
   "execution_count": 7,
   "metadata": {},
   "outputs": [
    {
     "data": {
      "text/plain": [
       "{23: '<s id=\"4205\" ref=\"CF996-8\" source=\"CETENFolha n=996 cad=Mundo sec=pol sem=94b\" forest=\"1\" text=\"Nessa época, Fishel teria conhecido o ginecologista britânico Robert Winston, a quem convidou para um encontro científico promovido por Antinori.\">\\n',\n",
       " 24: '<s id=\"988\" ref=\"CF230-1\" source=\"CETENFolha n=230 cad=Ilustrada sec=nd sem=94b\" forest=\"1\" text=\"Nenhum filme brasileiro foi escolhido, quebrando assim a expectativa criada em torno de «Alma Corsária» de Carlos Reichenbach e «Mil e Uma» de Suzana de Moraes.\">\\n',\n",
       " 25: '<s id=\"4184\" ref=\"CF990-5\" source=\"CETENFolha n=990 cad=Esporte sec=des sem=94b\" forest=\"1\" text=\"Na terceira colocação, 34 pontos, a Juventus de Turim visita o Genoa, 22, no limiar do rebaixamento.\">\\n',\n",
       " 26: '<s id=\"4190\" ref=\"CF992-1\" source=\"CETENFolha n=992 cad=Cotidiano sec=soc sem=94a\" forest=\"1\" text=\"O projeto vem sendo implementado, em caráter experimental, em três escolas: Morumbi, Visconde de Porto Seguro (particulares) e Godofredo Furtado (estadual).\">\\n',\n",
       " 27: '<s id=\"4206\" ref=\"CF997-2\" source=\"CETENFolha n=997 cad=Ilustrada sec=nd sem=94a\" forest=\"1\" text=\"O cineasta italiano Franco Zefirelli revelou que, para iludir o serviço militar durante o período fascista, se tornou um partisan e acabou matando um soldado alemão.\">\\n',\n",
       " 28: '<s id=\"4210\" ref=\"CF998-2\" source=\"CETENFolha n=998 cad=Dinheiro sec=eco sem=94a\" forest=\"1\" text=\"Mas é também preciso a sociedade mobilizar-se para sensibilizar o futuro Congresso Nacional na promoção de reformas constitucionais indispensáveis ao êxito das mudanças pretendidas.\">\\n',\n",
       " 29: '<s id=\"4155\" ref=\"CF984-1\" source=\"CETENFolha n=984 cad=Cotidiano sec=soc sem=94a\" forest=\"1\" text=\"Na Anhanguera, que une São Paulo a Ribeirão Preto, costuma haver neblina pesada entre o km 21 e o km 43, também perto de Perus e Cajamar.\">\\n',\n",
       " 30: '<s id=\"4049\" ref=\"CF958-3\" source=\"CETENFolha n=958 cad=Caderno Especial sec=nd sem=94a\" forest=\"1\" text=\"Mesmo entendendo suas explicações sobre o programa de governo, entendo que ele tinha que ter um programa de governo, que vai dar um meio de cobrar depois.\">\\n',\n",
       " 31: '<s id=\"4158\" ref=\"CF984-4\" source=\"CETENFolha n=984 cad=Cotidiano sec=soc sem=94a\" forest=\"1\" text=\"O mais perigoso é na região da Serra das Conchas, entre o km 129 e o km 162, logo após Tatuí, para quem vai para o interior.\">\\n',\n",
       " 32: '<s id=\"4091\" ref=\"CF967-1\" source=\"CETENFolha n=967 cad=Caderno Especial sec=nd sem=94a\" forest=\"1\" text=\"O prefeito de Juazeiro, Manoel Salviano (PSDB), disse que qualquer funcionário que tenha participado da recepção «foi espontaneamente, sem nenhuma pressão da prefeitura».\">\\n'}"
      ]
     },
     "execution_count": 7,
     "metadata": {},
     "output_type": "execute_result"
    }
   ],
   "source": [
    "setencas"
   ]
  },
  {
   "cell_type": "code",
   "execution_count": null,
   "metadata": {
    "collapsed": true
   },
   "outputs": [],
   "source": []
  }
 ],
 "metadata": {
  "kernelspec": {
   "display_name": "Python 3",
   "language": "python",
   "name": "python3"
  },
  "language_info": {
   "codemirror_mode": {
    "name": "ipython",
    "version": 3
   },
   "file_extension": ".py",
   "mimetype": "text/x-python",
   "name": "python",
   "nbconvert_exporter": "python",
   "pygments_lexer": "ipython3",
   "version": "3.5.3"
  }
 },
 "nbformat": 4,
 "nbformat_minor": 2
}
